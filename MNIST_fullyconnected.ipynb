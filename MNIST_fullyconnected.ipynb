{
 "cells": [
  {
   "cell_type": "code",
   "execution_count": 3,
   "metadata": {},
   "outputs": [],
   "source": [
    "'''\n",
    "Multi-class Classification Regular Neural Net for MNIST Dataset Using Gradient Descent\n",
    "    Implementation by Yousef Jaber\n",
    "    Method learned from Andrew Ng\n",
    "'''\n",
    "\n",
    "#Imports\n",
    "import time\n",
    "import numpy as np\n",
    "import h5py\n",
    "import matplotlib.pyplot as plt\n",
    "import scipy\n",
    "from PIL import Image\n",
    "from scipy import ndimage\n",
    "import pickle"
   ]
  },
  {
   "cell_type": "code",
   "execution_count": 4,
   "metadata": {},
   "outputs": [],
   "source": [
    "'''\n",
    "-------------------STEP 0: LOAD DATASET--------------------- \n",
    "'''\n",
    "\n",
    "#load data\n",
    "x_training_set = np.loadtxt(\"mnist_train(1).csv\", delimiter = \",\")\n",
    "x_test_set = np.loadtxt(\"mnist_test.csv\", delimiter = \",\")"
   ]
  },
  {
   "cell_type": "code",
   "execution_count": 227,
   "metadata": {},
   "outputs": [],
   "source": [
    "#split labels\n",
    "y_training_labels = np.asfarray(x_training_set[:, :1])\n",
    "y_test_labels = np.asfarray(x_test_set[:, :1])\n",
    "\n",
    "#get rid of 0 input values in image pixel arrays\n",
    "x_training_images = np.asfarray(x_training_set[:, 1:]) * 0.99/255 + 0.01\n",
    "x_test_images = np.asfarray(x_test_set[:, 1:])* 0.99/255 + 0.01\n",
    "\n",
    "#One Hot Encode the Labels for training and test sets\n",
    "lr = np.arange(10)    #Since there are 10 different labels, 0-9\n",
    "y_training_encoded = (lr == y_training_labels).astype(np.float)\n",
    "y_test_encoded = (lr == y_test_labels).astype(np.float)"
   ]
  },
  {
   "cell_type": "code",
   "execution_count": 228,
   "metadata": {},
   "outputs": [
    {
     "name": "stdout",
     "output_type": "stream",
     "text": [
      "--------Data Loaded-----------\n",
      "Training Data shape: (784, 60000)\n",
      "Test Data shape: (784, 10000)\n",
      "Training Labels Shape: (60000, 1)\n",
      "Test Labels Shape: (10000, 1)\n",
      "Train Labels Encoded: (10, 60000)\n",
      "Test Labels Encoded: (10, 10000)\n"
     ]
    }
   ],
   "source": [
    "#save data in binary format for faster load\n",
    "with open(\"pickeled_mnist_data.pkl\", \"bw\") as fh:\n",
    "    data = (x_training_images, \n",
    "            x_test_images,\n",
    "            y_training_labels,\n",
    "            y_test_labels,\n",
    "            y_training_encoded,\n",
    "            y_test_encoded)\n",
    "    pickle.dump(data, fh)\n",
    "    \n",
    "#reload data with pickle\n",
    "x_training_images = data[0] \n",
    "x_test_images = data[1]\n",
    "y_training_labels = data[2]\n",
    "y_test_labels = data[3]\n",
    "y_training_encoded = data[4]\n",
    "y_test_encoded = data[5]\n",
    "\n",
    "#transpose the arrays so they are of width no_of_samples\n",
    "x_training_images = x_training_images.T\n",
    "x_test_images = x_test_images.T\n",
    "y_training_encoded = np.array(y_training_encoded).T\n",
    "y_test_encoded = np.array(y_test_encoded).T\n",
    "\n",
    "print(\"--------Data Loaded-----------\")\n",
    "print(\"Training Data shape: \" + str(x_training_images.shape))\n",
    "print(\"Test Data shape: \" + str(x_test_images.shape))\n",
    "print(\"Training Labels Shape: \" + str(y_training_labels.shape))\n",
    "print(\"Test Labels Shape: \" + str(y_test_labels.shape))\n",
    "print(\"Train Labels Encoded: \" + str(y_training_encoded.shape))\n",
    "print(\"Test Labels Encoded: \" + str(y_test_encoded.shape))"
   ]
  },
  {
   "cell_type": "code",
   "execution_count": 445,
   "metadata": {},
   "outputs": [
    {
     "name": "stdout",
     "output_type": "stream",
     "text": [
      "[[0.01       0.01       0.01       ... 0.01       0.01       0.01      ]\n",
      " [0.01       0.01       0.01       ... 0.01       0.01       0.01      ]\n",
      " [0.01       0.01       0.01       ... 0.01       0.01       0.01      ]\n",
      " ...\n",
      " [0.01       0.01       0.01       ... 0.01       0.01       0.01      ]\n",
      " [0.01       0.44094118 0.01       ... 0.01       0.01       0.01      ]\n",
      " [0.01       0.99611765 0.01       ... 0.01       0.01       0.01      ]]\n"
     ]
    }
   ],
   "source": [
    "print(x_training_images[500:510,4000:40010])"
   ]
  },
  {
   "cell_type": "code",
   "execution_count": 229,
   "metadata": {},
   "outputs": [],
   "source": [
    "'''\n",
    "----------STEP 1: DEFINE NEURAL NET ARCHITECTURE-------------\n",
    "'''\n",
    "\n",
    "no_training_samples = x_training_images.shape[1]\n",
    "no_features = x_training_images.shape[0]\n",
    "\n",
    "#Number of units per layer (not counting input layer), specified when model is created\n",
    "layer_dimensions = []       "
   ]
  },
  {
   "cell_type": "code",
   "execution_count": 230,
   "metadata": {},
   "outputs": [],
   "source": [
    "'''\n",
    "------------STEP 2: INITIALIZE PARAMETERS--------------------\n",
    "'''\n",
    "\n",
    "def initialize_parameters(layer_dims, no_features, no_training_samples):\n",
    "\n",
    "    '''\n",
    "    Fill weight matrix with random weights and bias col vector with zeros\n",
    "    for each layer in the network\n",
    "    \n",
    "    arguments:\n",
    "        layer_dims  -- an array of hidden units per layer\n",
    "        no_features -- amount of features for input matrix X\n",
    "        no_training_samples -- length of training set\n",
    "\n",
    "    returns:\n",
    "        weight_dict -- a dictionary of weight matrices for each layer\n",
    "        bias_dict   -- a dictionary of bias col vectors for each layer\n",
    "    '''\n",
    "    \n",
    "    weight_dict = {}\n",
    "    bias_dict = {}\n",
    "\n",
    "    #first weight matrix gets second dim from no of features\n",
    "    weight_dict[\"W1\"] = np.random.randn(layer_dims[0],no_features) * 0.01\n",
    "    bias_dict[\"B1\"]   = np.zeros((layer_dims[0], 1))\n",
    "    \n",
    "    for layers in range(2, len(layer_dims) + 1, 1):\n",
    "        weight_dict[\"W\" + str(layers)] = np.random.randn(layer_dims[layers - 1], layer_dims[layers - 2]) * 0.01\n",
    "        bias_dict[\"B\" + str(layers)] = np.zeros((layer_dims[layers-1], 1))\n",
    "                                                                              \n",
    "    return weight_dict, bias_dict\n"
   ]
  },
  {
   "cell_type": "code",
   "execution_count": 231,
   "metadata": {},
   "outputs": [],
   "source": [
    "'''\n",
    "---------------------STEP 3: FORWARD PROPAGATION--------------------\n",
    "'''\n",
    "\n",
    "def calculate_activation(Z, activation_string):\n",
    "\n",
    "    '''\n",
    "    Calculate Relu or Softmax \n",
    "\n",
    "    arguments:\n",
    "        Z -- WX+B matrix for layer specified \n",
    "        activation_string -- which activation to use\n",
    "\n",
    "    returns:\n",
    "        A -- g(Z), where g is activation function\n",
    "    '''\n",
    "\n",
    "    if (activation_string == \"relu\"):\n",
    "        return np.maximum(0, Z)\n",
    "\n",
    "    elif (activation_string == \"softmax\"):\n",
    "        #print(\"Summing shape: \" + str(Z.shape))\n",
    "        return np.exp(Z)/np.sum(np.exp(Z), axis = 0, keepdims = True)\n",
    "\n",
    "def forward_propogate(weight_dict, bias_dict, x_training_set, layer_dims):\n",
    "    \n",
    "    '''\n",
    "    Calculates w.Tx + b and activation for each layer\n",
    "\n",
    "    arguments:\n",
    "        weight_dict -- a dictionary of weight matrices for each layer\n",
    "        bias_dict   -- a dictionary of bias col vectors for each layer\n",
    "        x_training_set -- the training set\n",
    "        layer_dims  -- an array of hidden units per layer\n",
    "\n",
    "    returns:\n",
    "        z_dict -- a dictionary mapping WX+B for each layer\n",
    "        y_hat  -- the final output(prediction) of the model\n",
    "        activation_dict -- a dictionary mapping activation(Z) for each layer\n",
    "    '''\n",
    "\n",
    "    z_dict = {}\n",
    "    y_hat  = {}\n",
    "    activation_dict = {\"A0\":x_training_set}\n",
    "\n",
    "    #relu layers (L-2, ie up until softmax layer)\n",
    "    for layers in range(len(layer_dims) - 1):\n",
    "        '''\n",
    "        print(\"W\" + str(layers + 1) + \" should have shape \" + str((layer_dims[layers+1], activation_dict[\"A\" + str(layers)].shape[0])) + \" but has shape: \" + str(weight_dict[\"W\" + str(layers + 1)].shape))\n",
    "        #make sure shapes are correct\n",
    "        assert(weight_dict[\"W\" + str(layers + 1)].shape == (layer_dims[layers+1], activation_dict[\"A\" + str(layers)].shape[0]))  \n",
    "        assert(activation_dict[\"A\" + str(layers)].shape == (layer_dims[layers+1], activation_dict[\"A\" + str(layers)].shape[1]))\n",
    "        assert(bias_dict[\"B\" + str(layers + 1)].shape == (layer_dims[layers+1], 1))\n",
    "        '''\n",
    "        \n",
    "        z_dict[\"Z\" + str(layers + 1)] = np.dot(weight_dict[\"W\" + str(layers + 1)], activation_dict[\"A\" + str(layers)]) + bias_dict[\"B\" + str(layers + 1)]  # Z^l = W^l . A^l-1 + B^l\n",
    "        activation_dict[\"A\" + str(layers + 1)] = calculate_activation(z_dict[\"Z\" + str(layers + 1)], \"relu\")\n",
    "        \n",
    "        \n",
    "    #softmax layer (layer L)\n",
    "    softmax_layer = len(layer_dims)\n",
    "    z_dict[\"Z\" + str(softmax_layer)] = np.dot(weight_dict[\"W\" + str(softmax_layer)], activation_dict[\"A\" + str(softmax_layer - 1)]) + bias_dict[\"B\" + str(softmax_layer)]\n",
    "    \n",
    "    activation_dict[\"A\" + str(softmax_layer)] = calculate_activation(z_dict[\"Z\" + str(softmax_layer)], \"softmax\")\n",
    "    y_hat = activation_dict[\"A\" + str(softmax_layer)]\n",
    "    \n",
    "\n",
    "    \n",
    "    return z_dict, y_hat, activation_dict\n"
   ]
  },
  {
   "cell_type": "code",
   "execution_count": 232,
   "metadata": {},
   "outputs": [],
   "source": [
    "'''\n",
    "----------------------------- STEP 4: CALCULATE COST -------------------------------\n",
    "'''\n",
    "\n",
    "def calculate_cost(y_hat, y_labels):\n",
    "    '''\n",
    "    Sum of Losses for each training sample\n",
    "\n",
    "    arguments:\n",
    "        y_hat    -- model prediction                                #Both have shape (c, m)\n",
    "        y_labels -- labels for training or test samples\n",
    "\n",
    "    returns:\n",
    "        cost -- calculated cost\n",
    "    '''\n",
    "    if(y_hat.shape[0] != (10)):\n",
    "        print(\"Shapes of Ys\")\n",
    "        print(y_hat.shape)\n",
    "        print(y_labels.shape)\n",
    "    \n",
    "    m = y_labels.shape[1]\n",
    "    \n",
    "    loss = - np.sum(y_labels * np.log(y_hat), axis = 0, keepdims = True)\n",
    "    cost = 1/m * np.sum(loss, axis = 1)\n",
    "    \n",
    "    return cost\n",
    "\n"
   ]
  },
  {
   "cell_type": "code",
   "execution_count": 233,
   "metadata": {},
   "outputs": [],
   "source": [
    "'''\n",
    "----------------------------- STEP 5: BACKWARD PROPAGATION -------------------------------\n",
    "'''\n",
    "\n",
    "def relu_backward(dA, Z):\n",
    "    '''\n",
    "    dZ = dA * g'(Z) where g is the Relu activation\n",
    "\n",
    "    arguments:\n",
    "        dA -- dA is calculated in the previous layer with WT.dZ\n",
    "        Z  -- the linear output (WT.Z) calculated from forward prop\n",
    "\n",
    "    returns:\n",
    "        dZ -- used to calculate dB and dW \n",
    "    '''\n",
    "    \n",
    "    return np.multiply(dA, np.where(Z > 0, 1, 0))\n",
    "\n",
    "\n",
    "def back_propagate(y_labels_encoded, activation_dict, layer_dims, weight_dict, z_dict, y_hat):\n",
    "    '''\n",
    "    Calculate the gradients for all of the weights and biases in each layer\n",
    "\n",
    "    rguments: \n",
    "        y_labels_encoded -- one hot encoded labels\n",
    "        activation_dict --  activations calculated from forward prop\n",
    "        layer_dims -- created when specifying neural net architecture\n",
    "        weight_dict -- weights from forward prop\n",
    "        z_dict -- Z's calulcated from forward prop\n",
    "        y_hat  -- predictions from forward prop\n",
    "\n",
    "    returns:\n",
    "        gradients -- dZ, dW, and dB for all of the layers\n",
    "    '''\n",
    "\n",
    "    gradients = {}\n",
    "    m = y_hat.shape[1]\n",
    "\n",
    "    #first calculate gradients for softmax layer, including dA_prev, the activation gradient for the preceding layer\n",
    "    dZ = y_hat - y_labels_encoded\n",
    "    gradients[\"dZ\" + str(len(layer_dims))] = dZ\n",
    "    gradients[\"dW\" + str(len(layer_dims))] = 1/m * np.dot(dZ, activation_dict[\"A\" + str(len(layer_dims) - 1)].T)\n",
    "    gradients[\"dB\" + str(len(layer_dims))] = 1/m * np.sum(dZ, axis = 1, keepdims = True)\n",
    "    gradients[\"dA\" + str(len(layer_dims) - 1)] = np.dot(weight_dict[\"W\" + str(len(layer_dims))].T, dZ)\n",
    "    \n",
    "    \n",
    "    for layers in reversed(range(1, len(layer_dims), 1)):\n",
    "        i = str(layers)\n",
    "        \n",
    "        gradients[\"dZ\" + i] = relu_backward(gradients[\"dA\" + i], z_dict[\"Z\" + i])\n",
    "        dZ = gradients[\"dZ\" + i]\n",
    "        \n",
    "        gradients[\"dW\" + i] = 1/m * np.dot(dZ, activation_dict[\"A\" + str(layers - 1)].T)\n",
    "        gradients[\"dB\" + i] = 1/m * np.sum(dZ, axis = 1, keepdims = True)\n",
    "        gradients[\"dA\" + str(layers - 1)] = np.dot(weight_dict[\"W\" + i].T, dZ)\n",
    "    \n",
    "    return gradients"
   ]
  },
  {
   "cell_type": "code",
   "execution_count": 266,
   "metadata": {},
   "outputs": [],
   "source": [
    "'''\n",
    "------------------- STEP 6: UPDATE PARAMETERS --------------------------\n",
    "'''\n",
    "\n",
    "def update_parameters(learning_rate, gradients, weight_dict, bias_dict, layer_dims):\n",
    "    '''\n",
    "    Update values in parameter dictionaries using gradient values and learning rate\n",
    "\n",
    "    arguments: \n",
    "        learning_rate -- alpha coefficient in update equation\n",
    "        gradients  -- gradients from back prop\n",
    "        weight_dict   -- weights\n",
    "        bias_dict     -- biases\n",
    "        layer_dims    -- model architecture\n",
    "        \n",
    "    returns:\n",
    "        weight_dict   -- weights\n",
    "        bias_dict     -- biases\n",
    "    '''\n",
    "    \n",
    "    for layers in range(len(layer_dims)):\n",
    "\n",
    "        weight_dict[\"W\" + str(layers + 1)] = np.subtract(weight_dict[\"W\" + str(layers + 1)], learning_rate * gradients[\"dW\" + str(layers + 1)])\n",
    "        bias_dict[\"B\" + str(layers + 1)]   = np.subtract(bias_dict[\"B\" + str(layers + 1)], learning_rate * gradients[\"dB\" + str(layers + 1)])\n",
    "    return weight_dict, bias_dict"
   ]
  },
  {
   "cell_type": "code",
   "execution_count": 235,
   "metadata": {},
   "outputs": [],
   "source": [
    "'''\n",
    "------------------ STEP 7: CREATE MODEL AND PREDICT ---------------------\n",
    "'''\n",
    "\n",
    "def create_model(layer_dimensions, training_set_X, training_labels_encoded_Y, learning_rate, num_iterations, print_every):\n",
    "    '''\n",
    "    Pull all the strings together\n",
    "    '''\n",
    "    \n",
    "    print(\"NN Dimensions: \" + str(layer_dimensions))\n",
    "    print(\"Dataset shape: \" + str(training_set_X.shape))\n",
    "    print(\"Labels Shape: \" + str(training_labels_encoded_Y.shape))\n",
    "    \n",
    "    weight_dict, bias_dict = initialize_parameters(layer_dimensions, training_set_X.shape[0], training_set_X.shape[1])\n",
    "    costs = np.array([])\n",
    "\n",
    "    for it in range(num_iterations):\n",
    "        z_dict, y_hat, activation_dict = forward_propogate(weight_dict, bias_dict, training_set_X, layer_dimensions)\n",
    "        costs = np.append(costs, calculate_cost(activation_dict[\"A\" + str(len(layer_dimensions))], training_labels_encoded_Y))\n",
    "        gradients = back_propagate(training_labels_encoded_Y, activation_dict, layer_dimensions, weight_dict, z_dict, y_hat)\n",
    "        weight_dict, bias_dict = update_parameters(learning_rate, gradients, weight_dict, bias_dict, layer_dimensions)\n",
    "\n",
    "        if (it % print_every == 0):\n",
    "            print(\"The cost after iteration \" + str(it) + \" is \" + str(costs[it]))\n",
    "\n",
    "    print(\"After model trained. y_hat shape: \" + str(activation_dict[\"A\" + str(len(layer_dimensions))].shape))\n",
    "    print(\"Length of weight dict \" + str(len(weight_dict)))\n",
    "    \n",
    "    # plot the cost\n",
    "    plt.plot(np.squeeze(costs))\n",
    "    plt.ylabel('cost')\n",
    "    plt.xlabel('iterations (per hundreds)')\n",
    "    plt.title(\"Learning rate =\" + str(learning_rate))\n",
    "    plt.show()\n",
    "\n",
    "    return weight_dict, bias_dict\n",
    "\n",
    "def predict(weight_dict, bias_dict, test_set_X, layer_dimensions, test_labels_Y_encoded):\n",
    "    '''\n",
    "    Run forward propgation on test set and compare to test labels\n",
    "    '''\n",
    "    print(\"NN Dimensions: \" + str(layer_dimensions))\n",
    "    print(\"Dataset shape: \" + str(test_set_X.shape))\n",
    "    print(\"Labels Shape: \" + str(test_labels_Y_encoded.shape))\n",
    "    \n",
    "    z_dict, y_hat, activation_dict = forward_propogate(weight_dict, bias_dict, test_set_X, layer_dimensions) \n",
    "    cost = calculate_cost(y_hat, test_labels_Y_encoded)\n",
    "    \n",
    "    print(\"Yhat shape: \" + str(y_hat.shape))\n",
    "    #convert y_hat to an array of actual numbers\n",
    "    y_hat_numbers = np.argmax(y_hat, axis = 0)\n",
    "    \n",
    "    #how many matched values between prediction and test labels\n",
    "    accuracy = np.sum(y_hat_numbers.T == y_test_labels.T) / test_labels_Y_encoded.shape[1] * 100\n",
    "    \n",
    "    print(\"Final cost: \" + str(cost))\n",
    "    print(\"Final accuracy: \" + str(accuracy) + \" %\")\n",
    "    \n",
    "    return y_hat"
   ]
  },
  {
   "cell_type": "code",
   "execution_count": 301,
   "metadata": {
    "scrolled": false
   },
   "outputs": [
    {
     "name": "stdout",
     "output_type": "stream",
     "text": [
      "NN Dimensions: [397, 10]\n",
      "Dataset shape: (784, 60000)\n",
      "Labels Shape: (10, 60000)\n",
      "The cost after iteration 0 is 2.3030108738766275\n",
      "The cost after iteration 100 is 0.7661136042722223\n",
      "The cost after iteration 200 is 0.46451957470500377\n",
      "The cost after iteration 300 is 0.3869922609041496\n",
      "The cost after iteration 400 is 0.3507670693813656\n",
      "The cost after iteration 500 is 0.3281425224949228\n",
      "The cost after iteration 600 is 0.3114375478977885\n",
      "The cost after iteration 700 is 0.29774879030926205\n",
      "The cost after iteration 800 is 0.2856617290101507\n",
      "The cost after iteration 900 is 0.2745843161145596\n",
      "After model trained. y_hat shape: (10, 60000)\n",
      "Length of weight dict 2\n"
     ]
    },
    {
     "data": {
      "image/png": "[encoded data removed]",
      "text/plain": [
       "<Figure size 432x288 with 1 Axes>"
      ]
     },
     "metadata": {
      "needs_background": "light"
     },
     "output_type": "display_data"
    }
   ],
   "source": [
    "'''\n",
    "--------------------- Create Model ----------------------\n",
    "'''\n",
    "layer_dimensions = [397,10]\n",
    "learning_rate = 0.1\n",
    "num_iterations = 1000\n",
    "print_every = 100\n",
    "\n",
    "x_training_images = np.array(x_training_images)\n",
    "y_training_encoded = np.array( y_training_encoded)\n",
    "\n",
    "weight_dict2, bias_dict2 = create_model(layer_dimensions, x_training_images, y_training_encoded, learning_rate, num_iterations, print_every)"
   ]
  },
  {
   "cell_type": "code",
   "execution_count": 302,
   "metadata": {},
   "outputs": [
    {
     "name": "stdout",
     "output_type": "stream",
     "text": [
      "NN Dimensions: [397, 10]\n",
      "Dataset shape: (784, 10000)\n",
      "Labels Shape: (10, 10000)\n",
      "Yhat shape: (10, 10000)\n",
      "Final cost: [0.25705056]\n",
      "Final accuracy: 92.73 %\n"
     ]
    }
   ],
   "source": [
    "'''\n",
    "---------------------- Predict on test data ----------------------------\n",
    "'''\n",
    "\n",
    "y_hat = predict(weight_dict2, bias_dict2, x_test_images, layer_dimensions, y_test_encoded)"
   ]
  },
  {
   "cell_type": "code",
   "execution_count": 303,
   "metadata": {},
   "outputs": [],
   "source": [
    "y_hat_numbers = np.argmax(y_hat, axis = 0)\n"
   ]
  },
  {
   "cell_type": "code",
   "execution_count": 308,
   "metadata": {},
   "outputs": [
    {
     "name": "stdout",
     "output_type": "stream",
     "text": [
      "[[7. 2. 1. 0. 4. 1. 4. 9. 5. 9. 0. 6. 9. 0. 1. 5. 9. 7. 3. 4. 9. 6. 6. 5.\n",
      "  4. 0. 7. 4. 0. 1. 3. 1. 3. 4. 7. 2. 7. 1. 2. 1. 1. 7. 4. 2. 3. 5. 1. 2.\n",
      "  4. 4. 6. 3. 5. 5. 6. 0. 4. 1. 9. 5. 7. 8. 9. 3. 7. 4. 6. 4. 3. 0. 7. 0.\n",
      "  2. 9. 1. 7. 3. 2. 9. 7. 7. 6. 2. 7. 8. 4. 7. 3. 6. 1. 3. 6. 9. 3. 1. 4.\n",
      "  1. 7. 6. 9.]]\n"
     ]
    }
   ],
   "source": [
    "print(y_test_labels.T[:,:100])"
   ]
  },
  {
   "cell_type": "code",
   "execution_count": 305,
   "metadata": {},
   "outputs": [
    {
     "name": "stdout",
     "output_type": "stream",
     "text": [
      "[7 2 1 0 4 1 4 9 6 9 0 6 9 0 1 5 9 7 3 4 9 6 6 5 4 0 7 4 0 1 3 1 3 6 7 2 7\n",
      " 1 2 1 1 7 4 2 3 5 1 2 4 4 6 3 5 5 6 0 4 1 9 5 7 8 9 3 7 4 6 4 3 0 7 0 2 9\n",
      " 1 7 3 7 9 7 7 6 2 7 8 4 7 3 6 1 3 6 4 3 1 4 1 7 6 9]\n"
     ]
    }
   ],
   "source": [
    "print(y_hat_numbers[:100])"
   ]
  },
  {
   "cell_type": "code",
   "execution_count": 314,
   "metadata": {},
   "outputs": [
    {
     "name": "stdout",
     "output_type": "stream",
     "text": [
      "(10000,)\n"
     ]
    }
   ],
   "source": [
    "y_test_labels = np.squeeze(y_test_labels.T)\n",
    "print(y_test_labels.shape)"
   ]
  },
  {
   "cell_type": "code",
   "execution_count": 315,
   "metadata": {},
   "outputs": [
    {
     "name": "stdout",
     "output_type": "stream",
     "text": [
      "(10000,)\n"
     ]
    }
   ],
   "source": [
    "print(y_hat_numbers.shape)"
   ]
  },
  {
   "cell_type": "code",
   "execution_count": 340,
   "metadata": {},
   "outputs": [
    {
     "name": "stdout",
     "output_type": "stream",
     "text": [
      "(1, 727)\n",
      "[[  8  33  77  92 124 149 193 217 233 241 245 247 259 290 300 313 318 320\n",
      "  321 340 341 352 362 381 412]]\n"
     ]
    },
    {
     "data": {
      "image/png": "[encoded data removed]",
      "text/plain": [
       "<Figure size 432x288 with 1 Axes>"
      ]
     },
     "metadata": {
      "needs_background": "light"
     },
     "output_type": "display_data"
    },
    {
     "data": {
      "image/png": "[encoded data removed]",
      "text/plain": [
       "<Figure size 432x288 with 1 Axes>"
      ]
     },
     "metadata": {
      "needs_background": "light"
     },
     "output_type": "display_data"
    },
    {
     "data": {
      "image/png": "[encoded data removed]",
      "text/plain": [
       "<Figure size 432x288 with 1 Axes>"
      ]
     },
     "metadata": {
      "needs_background": "light"
     },
     "output_type": "display_data"
    },
    {
     "data": {
      "image/png": "[encoded data removed]",
      "text/plain": [
       "<Figure size 432x288 with 1 Axes>"
      ]
     },
     "metadata": {
      "needs_background": "light"
     },
     "output_type": "display_data"
    },
    {
     "data": {
      "image/png": "[encoded data removed]",
      "text/plain": [
       "<Figure size 432x288 with 1 Axes>"
      ]
     },
     "metadata": {
      "needs_background": "light"
     },
     "output_type": "display_data"
    },
    {
     "data": {
      "image/png": "[encoded data removed]",
      "text/plain": [
       "<Figure size 432x288 with 1 Axes>"
      ]
     },
     "metadata": {
      "needs_background": "light"
     },
     "output_type": "display_data"
    },
    {
     "data": {
      "image/png": "[encoded data removed]",
      "text/plain": [
       "<Figure size 432x288 with 1 Axes>"
      ]
     },
     "metadata": {
      "needs_background": "light"
     },
     "output_type": "display_data"
    },
    {
     "data": {
      "image/png": "[encoded data removed]",
      "text/plain": [
       "<Figure size 432x288 with 1 Axes>"
      ]
     },
     "metadata": {
      "needs_background": "light"
     },
     "output_type": "display_data"
    },
    {
     "data": {
      "image/png": "[encoded data removed]",
      "text/plain": [
       "<Figure size 432x288 with 1 Axes>"
      ]
     },
     "metadata": {
      "needs_background": "light"
     },
     "output_type": "display_data"
    },
    {
     "data": {
      "image/png": "[encoded data removed]",
      "text/plain": [
       "<Figure size 432x288 with 1 Axes>"
      ]
     },
     "metadata": {
      "needs_background": "light"
     },
     "output_type": "display_data"
    },
    {
     "data": {
      "image/png": "[encoded data removed]",
      "text/plain": [
       "<Figure size 432x288 with 1 Axes>"
      ]
     },
     "metadata": {
      "needs_background": "light"
     },
     "output_type": "display_data"
    },
    {
     "data": {
      "image/png": "[encoded data removed]",
      "text/plain": [
       "<Figure size 432x288 with 1 Axes>"
      ]
     },
     "metadata": {
      "needs_background": "light"
     },
     "output_type": "display_data"
    },
    {
     "data": {
      "image/png": "[encoded data removed]",
      "text/plain": [
       "<Figure size 432x288 with 1 Axes>"
      ]
     },
     "metadata": {
      "needs_background": "light"
     },
     "output_type": "display_data"
    },
    {
     "data": {
      "image/png": "[encoded data removed]",
      "text/plain": [
       "<Figure size 432x288 with 1 Axes>"
      ]
     },
     "metadata": {
      "needs_background": "light"
     },
     "output_type": "display_data"
    },
    {
     "data": {
      "image/png": "[encoded data removed]",
      "text/plain": [
       "<Figure size 432x288 with 1 Axes>"
      ]
     },
     "metadata": {
      "needs_background": "light"
     },
     "output_type": "display_data"
    },
    {
     "data": {
      "image/png": "[encoded data removed]",
      "text/plain": [
       "<Figure size 432x288 with 1 Axes>"
      ]
     },
     "metadata": {
      "needs_background": "light"
     },
     "output_type": "display_data"
    },
    {
     "data": {
      "image/png": "[encoded data removed]",
      "text/plain": [
       "<Figure size 432x288 with 1 Axes>"
      ]
     },
     "metadata": {
      "needs_background": "light"
     },
     "output_type": "display_data"
    },
    {
     "data": {
      "image/png": "[encoded data removed]",
      "text/plain": [
       "<Figure size 432x288 with 1 Axes>"
      ]
     },
     "metadata": {
      "needs_background": "light"
     },
     "output_type": "display_data"
    },
    {
     "data": {
      "image/png": "[encoded data removed]",
      "text/plain": [
       "<Figure size 432x288 with 1 Axes>"
      ]
     },
     "metadata": {
      "needs_background": "light"
     },
     "output_type": "display_data"
    },
    {
     "data": {
      "image/png": "[encoded data removed]",
      "text/plain": [
       "<Figure size 432x288 with 1 Axes>"
      ]
     },
     "metadata": {
      "needs_background": "light"
     },
     "output_type": "display_data"
    },
    {
     "data": {
      "image/png": "[encoded data removed]",
      "text/plain": [
       "<Figure size 432x288 with 1 Axes>"
      ]
     },
     "metadata": {
      "needs_background": "light"
     },
     "output_type": "display_data"
    },
    {
     "data": {
      "image/png": "[encoded data removed]",
      "text/plain": [
       "<Figure size 432x288 with 1 Axes>"
      ]
     },
     "metadata": {
      "needs_background": "light"
     },
     "output_type": "display_data"
    },
    {
     "data": {
      "image/png": "[encoded data removed]",
      "text/plain": [
       "<Figure size 432x288 with 1 Axes>"
      ]
     },
     "metadata": {
      "needs_background": "light"
     },
     "output_type": "display_data"
    },
    {
     "data": {
      "image/png": "[encoded data removed]",
      "text/plain": [
       "<Figure size 432x288 with 1 Axes>"
      ]
     },
     "metadata": {
      "needs_background": "light"
     },
     "output_type": "display_data"
    },
    {
     "data": {
      "image/png": "[encoded data removed]",
      "text/plain": [
       "<Figure size 432x288 with 1 Axes>"
      ]
     },
     "metadata": {
      "needs_background": "light"
     },
     "output_type": "display_data"
    }
   ],
   "source": [
    "positions_where_prediction_wrong = (y_test_labels != y_hat_numbers)\n",
    "positions_where_prediction_wrong = np.where(positions_where_prediction_wrong == True)\n",
    "print(np.array(positions_where_prediction_wrong).shape)\n",
    "positions_where_prediction_wrong = np.array(positions_where_prediction_wrong)[:, :25]\n",
    "print(positions_where_prediction_wrong)\n",
    "for i in np.array(positions_where_prediction_wrong)[0]:\n",
    "    first_image = x_test_images[:,i]\n",
    "    first_image = np.array(first_image, dtype='float')\n",
    "    pixels = first_image.reshape((28, 28))\n",
    "    plt.imshow(pixels, cmap='gray')\n",
    "    plt.title(\"Label was: \" + str(y_test_labels[i]) + \", but your model predicted \" + str(y_hat_numbers[i]))\n",
    "    plt.show()\n"
   ]
  },
  {
   "cell_type": "code",
   "execution_count": 310,
   "metadata": {},
   "outputs": [
    {
     "data": {
      "text/plain": [
       "array([[7, 2, 1, 0, 4, 1, 4, 9, 6, 9, 0, 6, 9, 0, 1, 5, 9, 7, 3, 4, 9, 6,\n",
       "        6, 5, 4, 0, 7, 4, 0, 1, 3, 1, 3, 6, 7, 2, 7, 1, 2, 1, 1, 7, 4, 2,\n",
       "        3, 5, 1, 2, 4, 4, 6, 3, 5, 5, 6, 0, 4, 1, 9, 5, 7, 8, 9, 3, 7, 4,\n",
       "        6, 4, 3, 0, 7, 0, 2, 9, 1, 7, 3, 7, 9, 7, 7, 6, 2, 7, 8, 4, 7, 3,\n",
       "        6, 1, 3, 6, 4, 3, 1, 4, 1, 7, 6, 9, 6, 0, 5, 4, 9, 9, 2, 1, 9, 4,\n",
       "        8, 7, 3, 9, 7, 4, 4, 4, 9, 2, 5, 4, 7, 6, 4, 9, 0, 5, 8, 5, 6, 6,\n",
       "        5, 7, 8, 1, 0, 1, 6, 4, 6, 7, 3, 1, 7, 1, 8, 2, 0, 9, 9, 9, 5, 5,\n",
       "        1, 5, 6, 0, 3, 4, 4, 6, 5, 4, 6, 5, 4, 5, 1, 4, 4, 7, 2, 3, 2, 7,\n",
       "        1, 8, 1, 8, 1, 8, 5, 0, 8, 9, 2, 5, 0, 1, 1, 1, 0, 3, 0, 3, 1, 6,\n",
       "        4, 2, 3, 6, 1, 1, 1, 3, 9, 5, 2, 9, 4, 5, 9, 3, 9, 0, 3, 5, 5, 5,\n",
       "        7, 2, 2, 7, 1, 2, 8, 4, 1, 7, 3, 3, 8, 7, 7, 9, 2, 2, 4, 1, 5, 8,\n",
       "        8, 7, 2, 5, 0, 2, 4, 2, 4, 1, 9, 5, 7, 7, 2, 8, 2, 0, 8, 5, 7, 7,\n",
       "        9, 1, 8, 1, 8, 0, 3, 0, 1, 9, 9, 4, 1, 8, 2, 1, 2, 9, 7, 5, 9, 2,\n",
       "        6, 4, 1, 5, 4, 2, 9, 2, 0, 4, 0, 0, 2, 8, 6, 7, 1, 2, 4, 0, 2, 7,\n",
       "        4, 3, 3, 0, 0, 5, 1, 9, 6, 5, 3, 5, 7, 7, 9, 3, 0, 4, 2, 0, 7, 1,\n",
       "        1, 2, 1, 5, 3, 3, 9, 7, 8, 6, 3, 4, 1, 3, 8, 1, 0, 5, 1, 3, 1, 5,\n",
       "        0, 6, 1, 8, 5, 1, 7, 9, 4, 6, 7, 2, 5, 0, 6, 5, 6, 3, 7, 2, 0, 8,\n",
       "        8, 5, 4, 1, 1, 4, 0, 7, 3, 7, 6, 1, 6, 2, 1, 9, 2, 8, 6, 1, 9, 5,\n",
       "        2, 5, 4, 4, 2, 8, 3, 8, 2, 4, 5, 0, 3, 1, 7, 7, 3, 7, 9, 7, 1, 9,\n",
       "        2, 1, 4, 2, 9, 2, 0, 4, 9, 1, 4, 8, 1, 8, 4, 5, 9, 7, 8, 3, 7, 6,\n",
       "        0, 0, 3, 0, 8, 0, 6, 4, 8, 5, 3, 3, 2, 3, 9, 1, 2, 6, 8, 0, 5, 6,\n",
       "        6, 6, 3, 8, 8, 2, 2, 5, 8, 9, 6, 1, 8, 4, 1, 2, 8, 3, 1, 9, 7, 5,\n",
       "        4, 0, 8, 9, 9, 1, 0, 5, 2, 3, 7, 8, 9, 4, 0, 6, 3, 9, 3, 2, 1, 3,\n",
       "        1, 5, 6, 5, 7, 1, 2, 2, 6, 3, 2, 6, 5, 4, 8, 9, 7, 1, 3, 0, 3, 8,\n",
       "        3, 1, 9, 6, 4, 4, 6, 4, 1, 1, 8, 2, 5, 4, 8, 3, 4, 0, 0, 2, 3, 2,\n",
       "        7, 1, 0, 8, 7, 4, 4, 7, 9, 6, 9, 0, 9, 8, 0, 9, 6, 0, 6, 5, 5, 4,\n",
       "        8, 3, 3, 9, 3, 3, 2, 7, 8, 0, 2, 2, 1, 7, 0, 6, 5, 4, 3, 3, 0, 9,\n",
       "        6, 3, 8, 0, 9, 9, 6, 8, 6, 8, 5, 7, 8, 6, 0, 2, 4, 0, 2, 8, 3, 1,\n",
       "        9, 7, 5, 8, 0, 8, 4, 6, 2, 6, 7, 4, 9, 6, 9, 8, 2, 2, 9, 2, 7, 3,\n",
       "        5, 9, 1, 8, 0, 2, 0, 5, 2, 1, 3, 7, 6, 7, 1, 2, 5, 8, 0, 3, 7, 9,\n",
       "        4, 0, 9, 1, 8, 6, 7, 7, 4, 3, 4, 9, 1, 9, 5, 1, 7, 3, 9, 7, 6, 9,\n",
       "        1, 3, 3, 8, 3, 3, 6, 7, 2, 4, 5, 8, 5, 1, 1, 4, 4, 3, 1, 0, 7, 7,\n",
       "        0, 7, 9, 9, 4, 8, 5, 5, 4, 0, 8, 2, 1, 6, 8, 4, 2, 0, 4, 0, 6, 1,\n",
       "        7, 3, 8, 6, 7, 2, 6, 9, 3, 1, 4, 6, 8, 5, 9, 2, 0, 6, 2, 1, 7, 3,\n",
       "        4, 1, 0, 5, 4, 3, 1, 1, 7, 4, 9, 9, 9, 8, 4, 0, 2, 4, 5, 1, 1, 6,\n",
       "        4, 7, 1, 9, 4, 2, 4, 1, 5, 5, 3, 8, 3, 1, 4, 5, 6, 8, 9, 4, 1, 9,\n",
       "        3, 8, 0, 3, 2, 5, 1, 2, 8, 3, 4, 4, 0, 8, 8, 3, 3, 1, 2, 3, 5, 9,\n",
       "        6, 3, 2, 6, 1, 3, 6, 0, 7, 2, 1, 7, 1, 4, 2, 4, 2, 1, 7, 9, 6, 1,\n",
       "        1, 2, 4, 3, 1, 7, 7, 4, 7, 0, 7, 3, 1, 3, 1, 0, 7, 7, 0, 3, 5, 3,\n",
       "        2, 7, 6, 6, 9, 2, 8, 3, 5, 2, 2, 5, 6, 0, 8, 2, 9, 2, 8, 8, 8, 8,\n",
       "        7, 9, 9, 3, 0, 6, 6, 3, 2, 1, 3, 2, 2, 9, 3, 0, 0, 5, 2, 8, 1, 4,\n",
       "        4, 6, 0, 2, 9, 1, 4, 7, 4, 7, 3, 9, 8, 8, 4, 7, 1, 2, 1, 2, 2, 3,\n",
       "        7, 3, 2, 3, 9, 1, 7, 4, 0, 3, 5, 5, 8, 6, 5, 0, 6, 7, 6, 6, 3, 2,\n",
       "        7, 9, 1, 1, 2, 5, 6, 4, 9, 5, 6, 3, 3, 9, 7, 8, 9, 1, 1, 0, 9, 1,\n",
       "        4, 4, 5, 4, 0, 6, 2, 2, 3, 1, 5, 1, 2, 0, 8, 8, 1, 2, 6, 7, 1, 6,\n",
       "        2, 3, 9, 0, 1, 2, 2, 0, 8, 7, 9, 0, 2, 5, 1, 9, 7, 8, 1, 0, 4, 1,\n",
       "        7, 9, 5, 4, 2, 6, 8, 1, 3, 7, 5, 4, 4, 1, 8, 1, 3, 8, 1, 2, 8, 8,\n",
       "        0, 6, 2, 1, 1, 9, 1, 5, 3, 4, 8, 9, 5, 0, 9, 2, 6, 4, 8, 2, 1, 7,\n",
       "        2, 4, 9, 4, 4, 0, 7, 9, 2, 2, 3, 3, 4, 3, 5, 7, 3, 8, 8, 1, 2, 4,\n",
       "        4, 6, 4, 9, 3, 1, 0, 6, 9, 5, 9, 5, 9, 7, 3, 8, 0, 3, 7, 1, 3, 6,\n",
       "        7, 2, 5, 9, 7, 9, 6, 3, 6, 3, 7, 4, 6, 5, 8, 5, 4, 7, 8, 2, 8, 0,\n",
       "        7, 6, 8, 8, 7, 3, 3, 1, 9, 5, 2, 7, 3, 5, 1, 1, 2, 1, 4, 7, 4, 7,\n",
       "        5, 4, 5, 4, 0, 8, 3, 6, 9, 6, 0, 2, 7, 4, 4, 4, 4, 6, 6, 4, 7, 9,\n",
       "        3, 4, 5, 5, 8, 7, 3, 9, 2, 7, 0, 2, 4, 1, 1, 1, 6, 9, 2, 8, 7, 2,\n",
       "        0, 1, 5, 6, 4, 1, 9, 0, 6, 0, 4, 6, 8, 1, 5, 0, 2, 3, 2, 2, 3, 6,\n",
       "        2, 1, 6, 1, 1, 3, 7, 9, 0, 8, 0, 5, 4, 0, 6, 8, 2, 2, 3, 8, 4, 0,\n",
       "        4, 5, 5, 5, 1, 2, 1, 3, 1, 7, 9, 5, 7, 2, 0, 0, 5, 8, 6, 6, 5, 4,\n",
       "        1, 9, 3, 1, 5, 8, 1, 0, 2, 4, 4, 3, 6, 8, 8, 2, 4, 0, 5, 0, 4, 4,\n",
       "        7, 9, 3, 4, 1, 5, 9, 2, 3, 5, 8, 8, 0, 9, 3, 5, 6, 6, 0, 1, 6, 0,\n",
       "        3, 7, 4, 4, 1, 2, 9, 1, 4, 6, 9, 9, 7, 9, 8, 4, 4, 3, 1, 3, 1, 3,\n",
       "        8, 7, 9, 4, 8, 6, 2, 9, 9, 1, 4, 5, 6, 0, 5, 2, 2, 6, 1, 5, 5, 2,\n",
       "        4, 9, 6, 2, 7, 7, 2, 2, 1, 1, 2, 8, 3, 7, 2, 4, 1, 7, 1, 7, 6, 7,\n",
       "        8, 2, 7, 3, 1, 7, 5, 8, 2, 6, 2, 2, 5, 6, 6, 0, 9, 2, 4, 3, 3, 9,\n",
       "        7, 6, 6, 8, 0, 4, 1, 3, 8, 2, 9, 1, 8, 0, 6, 7, 2, 1, 0, 5, 5, 2,\n",
       "        0, 2, 6, 0, 2, 9, 9, 8, 0, 9, 9, 4, 6, 5, 4, 9, 1, 8, 3, 4, 9, 4,\n",
       "        1, 2, 2, 1, 1, 9, 6, 4, 0, 9, 9, 8, 3, 8, 7, 0, 2, 5, 1, 9, 6, 2,\n",
       "        9, 9, 0, 9, 6, 0, 6, 2, 5, 4, 2, 3, 8, 6, 3, 9, 0, 3, 8, 5, 3, 5,\n",
       "        8, 6, 5, 7, 6, 3, 3, 9, 6, 1, 1, 2, 9, 0, 4, 3, 3, 6, 9, 5, 0, 3,\n",
       "        7, 7, 7, 8, 1, 9, 8, 3, 0, 7, 2, 7, 9, 4, 5, 4, 9, 3, 8, 1, 4, 0,\n",
       "        2, 3, 7, 5, 9, 8, 8, 0, 0, 6, 1, 4, 7, 3, 9, 0, 0, 0, 6, 6, 2, 3,\n",
       "        7, 8, 4, 7, 7, 9, 2, 4, 1, 6, 5, 2, 4, 8, 9, 1, 8, 4, 0, 7, 8, 4,\n",
       "        8, 7, 7, 0, 7, 8, 8, 4, 0, 4, 8, 8, 2, 4, 7, 6, 6, 6, 4, 2, 1, 8,\n",
       "        8, 2, 3, 5, 3, 0, 0, 3, 7, 6, 9, 7, 9, 9, 5, 4, 3, 3, 6, 1, 2, 3,\n",
       "        7, 3, 3, 6, 0, 3, 3, 8, 4, 3, 6, 3, 5, 0, 2, 6, 9, 0, 7, 4, 6, 9,\n",
       "        3, 5, 1, 9, 6, 1, 7, 5, 4, 5, 0, 5, 4, 2, 2, 1, 2, 9, 1, 9, 9, 4,\n",
       "        0, 8, 4, 5, 2, 9, 2, 1, 2, 1, 7, 3, 6, 8, 8, 4, 9, 1, 9, 8, 5, 9,\n",
       "        5, 1, 1, 8, 6, 5, 2, 4, 4, 7, 2, 3, 5, 6, 8, 8, 6, 2, 3, 1, 0, 5,\n",
       "        8, 7, 1, 9, 6, 7, 0, 4, 8, 7, 1, 7, 4, 1, 0, 5, 7, 2, 0, 0, 9, 1,\n",
       "        7, 0, 2, 8, 4, 7, 4, 0, 4, 6, 0, 7, 1, 1, 3, 3, 9, 6, 7, 4, 1, 3,\n",
       "        3, 0, 8, 7, 3, 9, 6, 9, 3, 5, 0, 2, 7, 3, 5, 1, 2, 5, 8, 0, 8, 6,\n",
       "        1, 5, 0, 3, 0, 5, 1, 4, 0, 3, 7, 2, 9, 8, 5, 0, 7, 0, 4, 3, 1, 9,\n",
       "        2, 7, 7, 1, 4, 9, 9, 3, 9, 1, 7, 9, 0, 2, 0, 3, 3, 7, 4, 9, 2, 3,\n",
       "        3, 7, 7, 0, 0, 7, 5, 2, 9, 5, 7, 4, 4, 2, 6, 6, 1, 9, 6, 8, 2, 9,\n",
       "        0, 8, 7, 1, 1, 6, 3, 5, 1, 1, 1, 3, 1, 2, 3, 0, 2, 0, 1, 3, 5, 5,\n",
       "        7, 4, 7, 9, 6, 9, 6, 8, 3, 4, 6, 8, 5, 1, 4, 2, 4, 9, 5, 1, 1, 9,\n",
       "        0, 2, 4, 9, 5, 7, 1, 8, 3, 5, 6, 9, 8, 9, 1, 1, 6, 7, 6, 3, 2, 2,\n",
       "        0, 8, 9, 2, 5, 1, 0, 8, 1, 4, 5, 7, 9, 6, 9, 0, 6, 1, 5, 0, 8, 3,\n",
       "        8, 2, 6, 8, 0, 7, 4, 6, 1, 3, 4, 7, 5, 2, 3, 4, 4, 5, 2, 7, 1, 7,\n",
       "        2, 6, 6, 1, 0, 7, 8, 6, 0, 1, 8, 2, 5, 7, 7, 6, 5, 3, 5, 8, 9, 2,\n",
       "        4, 0, 8, 8, 3, 4, 9, 2, 7, 5, 8, 6, 3, 6, 0, 5, 6, 7, 3, 6, 4, 9,\n",
       "        4, 4, 5, 3, 0, 4, 1, 0, 1, 4, 6, 2, 9, 1, 1, 0, 6, 3, 9, 5, 6, 5,\n",
       "        6, 5, 8, 4, 6, 4, 3, 9, 1, 3, 4, 1, 9, 1, 2, 1, 1, 9, 3, 5, 4, 0,\n",
       "        9, 3, 6, 1, 7, 5, 5, 3, 3, 0, 1, 3, 7, 5, 8, 6, 4, 1, 0, 8, 7, 3,\n",
       "        4, 6, 7, 9, 8, 1, 8, 9, 9, 2, 8, 6, 2, 7, 0, 0, 6, 7, 5, 8, 6, 0,\n",
       "        4, 3, 9, 1, 3, 5, 4, 3, 3, 5, 5, 6, 3, 0, 2, 3, 4, 2, 3, 0, 9, 9,\n",
       "        4, 7, 2, 1, 4, 7, 0, 6, 0, 9, 5, 2, 8, 5, 7, 3, 0, 8, 2, 7, 2, 8,\n",
       "        2, 5, 5, 7, 6, 4, 5, 8, 4, 8, 2, 7, 4, 5, 2, 0, 3, 2, 9, 6, 7, 2,\n",
       "        5, 1, 1, 1, 8, 3, 6, 7, 8, 7, 6, 4, 8, 9, 9, 8, 6, 3, 8, 3, 1, 0,\n",
       "        6, 2, 2, 5, 6, 9, 5, 8, 1, 4, 1, 7, 8, 4, 6, 1, 8, 4, 3, 1, 2, 8,\n",
       "        0, 8, 5, 9, 2, 4, 2, 5, 3, 7, 0, 1, 0, 2, 5, 7, 6, 7, 9, 4, 2, 6,\n",
       "        2, 4, 4, 8, 0, 4, 4, 5, 8, 0, 6, 8, 9, 8, 5, 6, 9, 0, 4, 8, 7, 1,\n",
       "        3, 4, 8, 8, 0, 9, 1, 3, 3, 6, 9, 8, 7, 1, 0, 5, 7, 1, 7, 5, 2, 7,\n",
       "        9, 1, 8, 5, 2, 4, 9, 4, 7, 2, 2, 3, 4, 9, 1, 9, 2, 1, 7, 9, 4, 4,\n",
       "        6, 6, 7, 2, 7, 8, 0, 1, 9, 7, 1, 1, 7, 5, 3, 3, 5, 1, 3, 7, 6, 1,\n",
       "        3, 8, 7, 5, 9, 6, 0, 0, 2, 8, 8, 7, 3, 7, 1, 3, 0, 8, 4, 4, 3, 8,\n",
       "        9, 2, 3, 9, 7, 1, 1, 7, 0, 4, 9, 6, 5, 9, 1, 2, 0, 2, 0, 0, 4, 6,\n",
       "        7, 0, 7, 1, 4, 6, 4, 5, 4, 9, 9, 1, 7, 9, 5, 3, 3, 8, 2, 3, 6, 2,\n",
       "        2, 1, 1, 1, 1, 1, 6, 9, 1, 4, 3, 7, 1, 6, 4, 9, 0, 9, 7, 4, 2, 4,\n",
       "        0, 7, 2, 1, 0, 9, 8, 6, 0, 0, 4, 1, 6, 8, 2, 2, 3, 5, 9, 3, 2, 2,\n",
       "        1, 7, 5, 4, 4, 0, 4, 3, 1, 7, 9, 1, 0, 1, 2, 5, 9, 2, 1, 0, 1, 8,\n",
       "        9, 1, 4, 8, 3, 3, 9, 3, 6, 2, 8, 3, 2, 1, 1, 0, 4, 2, 9, 2, 4, 3,\n",
       "        7, 9, 1, 5, 2, 4, 9, 0, 3, 8, 5, 3, 6, 0, 9, 4, 6, 2, 5, 0, 0, 7,\n",
       "        4, 6, 6, 8, 6, 6, 8, 6, 9, 1, 7, 2, 5, 9, 9, 0, 7, 2, 7, 6, 7, 0,\n",
       "        6, 5, 4, 4, 7, 2, 0, 9, 9, 2, 2, 9, 4, 4, 2, 3, 3, 2, 1, 7, 0, 7,\n",
       "        6, 4, 1, 3, 8, 7, 4, 5, 9, 2, 5, 1, 8, 7, 3, 7, 1, 5, 3, 0, 9, 1,\n",
       "        4, 0, 6, 3, 5, 6, 0, 4, 9, 7, 5, 1, 6, 8, 9, 5, 5, 7, 9, 3, 8, 3,\n",
       "        8, 1, 5, 3, 2, 0, 5, 3, 2, 8, 6, 7, 7, 7, 3, 7, 0, 5, 9, 0, 2, 8,\n",
       "        7, 3, 1, 7, 7, 8, 6, 5, 9, 3, 8, 9, 3, 3, 7, 9, 1, 7, 0, 0, 3, 7,\n",
       "        2, 5, 2, 1, 8, 6, 2, 9, 5, 7, 5, 8, 8, 6, 8, 5, 1, 4, 8, 4, 5, 8,\n",
       "        3, 0, 6, 2, 7, 3, 3, 2, 1, 0, 7, 3, 4, 6, 3, 9, 3, 2, 8, 9, 0, 3,\n",
       "        8, 0, 7, 6, 5, 4, 7, 3, 0, 0, 8, 6, 2, 5, 1, 1, 0, 0, 4, 4, 0, 1,\n",
       "        2, 3, 2, 7, 7, 8, 5, 2, 8, 7, 6, 9, 1, 4, 1, 6, 4, 2, 4, 3, 5, 4,\n",
       "        3, 9, 5, 0, 1, 5, 3, 8, 9, 1, 9, 4, 9, 5, 5, 2, 7, 4, 6, 0, 1, 1,\n",
       "        1, 0, 4, 4, 7, 6, 3, 8, 0, 4, 3, 0, 6, 1, 9, 6, 1, 3, 8, 1, 2, 5,\n",
       "        6, 2, 7, 3, 6, 0, 1, 9, 7, 6, 6, 8, 9, 2, 9, 5, 8, 3, 1, 0, 0, 7,\n",
       "        6, 0, 2, 1, 6, 9, 3, 1, 8, 6, 9, 0, 6, 0, 0, 0, 6, 3, 5, 9, 6, 9,\n",
       "        5, 5, 8, 5, 3, 0, 4, 0, 3, 9, 6, 8, 2, 3, 1, 2, 1, 1, 5, 6, 9, 8,\n",
       "        0, 6, 6, 5, 5, 3, 8, 6, 2, 1, 4, 5, 4, 3, 7, 8, 3, 0, 9, 3, 5, 1,\n",
       "        1, 0, 4, 4, 7, 0, 1, 7, 0, 1, 6, 1, 4, 5, 6, 6, 3, 7, 8, 4, 9, 7,\n",
       "        2, 5, 3, 7, 0, 7, 7, 9, 6, 4, 2, 8, 3, 7, 8, 3, 9, 5, 8, 9, 9, 8,\n",
       "        6, 2, 8, 4, 2, 3, 4, 1, 1, 8, 9, 3, 4, 0, 7, 9, 6, 4, 1, 4, 1, 3,\n",
       "        4, 9, 3, 1, 4, 7, 7, 4, 7, 2, 9, 3, 0, 8, 0, 8, 4, 0, 4, 4, 1, 5,\n",
       "        2, 8, 5, 9, 9, 5, 2, 8, 1, 5, 3, 7, 9, 4, 2, 2, 6, 3, 5, 9, 3, 0,\n",
       "        9, 2, 1, 9, 5, 3, 0, 6, 9, 8, 4, 0, 4, 9, 2, 9, 0, 1, 0, 7, 1, 6,\n",
       "        5, 8, 1, 5, 3, 5, 0, 3, 5, 5, 9, 2, 8, 7, 0, 4, 9, 1, 9, 7, 7, 5,\n",
       "        5, 2, 0, 9, 1, 8, 6, 2, 3, 9, 6, 2, 1, 9, 1, 3, 5, 5, 0, 3, 9, 3,\n",
       "        3, 7, 6, 5, 0, 1, 4, 0, 6, 9, 8, 1, 2, 1, 9, 5, 9, 7, 3, 7, 8, 0,\n",
       "        1, 3, 0, 4, 6, 1, 0, 2, 5, 8, 4, 4, 1, 1, 5, 4, 6, 6, 0, 6, 9, 2,\n",
       "        6, 2, 7, 1, 7, 9, 4, 0, 0, 3, 8, 2, 2, 3, 1, 6, 0, 5, 7, 7, 9, 2,\n",
       "        6, 7, 7, 7, 8, 6, 8, 8, 4, 6, 8, 4, 1, 2, 8, 2, 3, 9, 4, 0, 3, 7,\n",
       "        3, 2, 3, 3, 7, 3, 4, 0, 6, 2, 0, 8, 1, 5, 3, 5, 4, 1, 7, 1, 5, 7,\n",
       "        3, 7, 3, 2, 2, 7, 3, 7, 5, 7, 8, 5, 6, 5, 2, 9, 6, 5, 3, 6, 7, 4,\n",
       "        1, 7, 1, 5, 2, 3, 0, 3, 1, 9, 2, 6, 9, 4, 3, 8, 0, 6, 2, 1, 6, 9,\n",
       "        3, 9, 1, 9, 3, 2, 1, 8, 4, 4, 6, 7, 8, 6, 4, 7, 7, 8, 6, 9, 7, 3,\n",
       "        9, 4, 0, 5, 4, 6, 4, 1, 2, 3, 0, 0, 2, 6, 6, 5, 7, 0, 8, 6, 4, 4,\n",
       "        9, 0, 7, 2, 4, 2, 1, 8, 8, 5, 9, 2, 7, 1, 8, 8, 3, 2, 7, 6, 0, 1,\n",
       "        2, 7, 1, 0, 8, 3, 6, 0, 5, 3, 6, 2, 8, 7, 0, 1, 4, 2, 1, 1, 4, 4,\n",
       "        4, 4, 7, 1, 6, 2, 3, 9, 0, 0, 1, 8, 8, 4, 3, 4, 2, 0, 6, 1, 6, 1,\n",
       "        2, 2, 2, 1, 2, 3, 7, 8, 1, 0, 0, 2, 1, 2, 6, 0, 1, 6, 2, 5, 1, 7,\n",
       "        4, 8, 8, 1, 4, 3, 7, 3, 9, 9, 4, 8, 3, 4, 7, 2, 7, 5, 7, 0, 4, 3,\n",
       "        3, 2, 4, 7, 6, 0, 0, 6, 7, 7, 0, 5, 5, 8, 1, 0, 4, 0, 2, 8, 1, 5,\n",
       "        0, 8, 8, 0, 3, 2, 7, 2, 3, 6, 4, 9, 5, 5, 5, 2, 9, 2, 8, 4, 6, 8,\n",
       "        6, 5, 0, 0, 8, 7, 6, 1, 7, 1, 1, 2, 7, 4, 0, 0, 7, 7, 6, 3, 8, 6,\n",
       "        4, 2, 0, 7, 4, 0, 5, 7, 8, 2, 7, 4, 7, 1, 1, 2, 6, 6, 2, 9, 1, 9,\n",
       "        4, 8, 3, 6, 9, 5, 7, 6, 2, 4, 6, 7, 7, 0, 6, 6, 9, 4, 8, 3, 5, 3,\n",
       "        4, 9, 0, 0, 5, 2, 5, 0, 7, 1, 1, 1, 0, 7, 6, 7, 9, 6, 6, 4, 1, 4,\n",
       "        3, 1, 1, 2, 1, 4, 1, 0, 8, 7, 6, 3, 4, 0, 0, 6, 3, 3, 8, 7, 1, 7,\n",
       "        1, 1, 3, 1, 0, 9, 9, 7, 5, 4, 1, 4, 8, 9, 4, 3, 5, 1, 9, 8, 2, 7,\n",
       "        3, 9, 9, 0, 1, 0, 2, 9, 3, 9, 3, 3, 6, 2, 3, 9, 8, 3, 7, 4, 0, 4,\n",
       "        7, 8, 4, 9, 8, 1, 9, 7, 5, 9, 2, 8, 2, 2, 0, 2, 2, 3, 8, 4, 6, 8,\n",
       "        4, 8, 2, 4, 6, 7, 9, 3, 3, 9, 4, 3, 1, 4, 4, 7, 0, 5, 9, 6, 0, 4,\n",
       "        4, 4, 4, 6, 1, 2, 3, 2, 5, 4, 5, 9, 6, 8, 5, 6, 0, 8, 6, 4, 1, 8,\n",
       "        6, 8, 2, 5, 4, 5, 5, 4, 7, 4, 0, 7, 8, 2, 2, 3, 7, 0, 1, 8, 0, 7,\n",
       "        1, 9, 8, 7, 5, 5, 9, 1, 7, 5, 4, 3, 8, 2, 2, 1, 6, 6, 0, 1, 1, 4,\n",
       "        0, 7, 4, 2, 4, 0, 6, 4, 7, 6, 9, 5, 3, 4, 6, 5, 0, 1, 8, 8, 2, 3,\n",
       "        3, 5, 7, 8, 0, 8, 5, 7, 1, 1, 0, 1, 3, 7, 8, 5, 0, 7, 1, 1, 0, 1,\n",
       "        1, 4, 5, 2, 7, 6, 2, 3, 0, 2, 5, 5, 4, 6, 9, 7, 2, 1, 3, 6, 4, 1,\n",
       "        3, 2, 4, 0, 5, 1, 0, 3, 2, 6, 4, 4, 3, 9, 8, 1, 6, 5, 7, 9, 2, 0,\n",
       "        2, 6, 0, 1, 4, 3, 3, 2, 8, 8, 0, 8, 8, 9, 0, 9, 6, 7, 6, 3, 3, 3,\n",
       "        9, 7, 7, 7, 4, 9, 0, 6, 9, 8, 4, 2, 9, 2, 1, 1, 0, 0, 7, 8, 3, 3,\n",
       "        3, 1, 3, 7, 6, 1, 3, 1, 6, 6, 5, 1, 4, 7, 5, 9, 5, 3, 4, 9, 9, 1,\n",
       "        6, 5, 0, 1, 3, 2, 0, 3, 4, 8, 2, 2, 0, 2, 8, 1, 5, 1, 6, 8, 8, 9,\n",
       "        1, 2, 1, 3, 5, 1, 0, 9, 4, 4, 8, 3, 8, 5, 9, 7, 6, 0, 2, 0, 0, 0,\n",
       "        8, 8, 3, 1, 5, 3, 3, 8, 5, 1, 8, 8, 6, 4, 9, 4, 6, 2, 3, 3, 5, 6,\n",
       "        4, 8, 0, 9, 2, 3, 3, 6, 9, 5, 1, 2, 9, 4, 9, 1, 2, 8, 2, 0, 3, 0,\n",
       "        9, 1, 1, 5, 7, 0, 9, 9, 1, 9, 5, 9, 3, 5, 0, 4, 1, 0, 8, 4, 0, 8,\n",
       "        9, 8, 9, 4, 8, 5, 7, 9, 8, 9, 8, 0, 9, 9, 6, 8, 9, 9, 5, 9, 8, 6,\n",
       "        1, 0, 3, 3, 5, 2, 1, 6, 3, 0, 2, 8, 3, 5, 6, 2, 3, 0, 2, 2, 6, 4,\n",
       "        3, 5, 5, 1, 7, 2, 1, 6, 9, 1, 3, 9, 5, 5, 1, 6, 2, 2, 8, 6, 7, 1,\n",
       "        4, 6, 0, 6, 0, 5, 3, 2, 8, 3, 6, 8, 9, 5, 5, 3, 8, 5, 4, 5, 2, 0,\n",
       "        5, 6, 2, 2, 8, 3, 9, 9, 5, 7, 9, 4, 6, 7, 1, 3, 1, 3, 6, 6, 0, 9,\n",
       "        0, 1, 8, 4, 1, 8, 8, 0, 1, 6, 9, 7, 5, 3, 4, 7, 4, 9, 4, 4, 3, 6,\n",
       "        3, 1, 1, 7, 6, 9, 1, 8, 4, 1, 1, 9, 9, 9, 3, 6, 8, 1, 6, 0, 4, 1,\n",
       "        3, 7, 7, 4, 9, 5, 1, 0, 0, 1, 1, 6, 2, 1, 9, 8, 4, 0, 5, 6, 4, 9,\n",
       "        0, 7, 1, 6, 5, 7, 5, 2, 5, 1, 8, 5, 4, 7, 0, 5, 7, 2, 2, 5, 8, 1,\n",
       "        0, 4, 3, 7, 1, 0, 8, 1, 7, 0, 0, 6, 0, 7, 3, 1, 8, 3, 9, 7, 0, 0,\n",
       "        8, 4, 5, 9, 8, 3, 2, 7, 2, 9, 7, 2, 1, 1, 3, 7, 5, 3, 1, 9, 8, 2,\n",
       "        2, 2, 8, 8, 5, 7, 3, 8, 9, 8, 8, 6, 8, 2, 3, 9, 7, 3, 6, 2, 9, 2,\n",
       "        8, 8, 1, 6, 2, 8, 7, 9, 1, 3, 0, 1, 7, 2, 0, 7, 1, 1, 4, 0, 2, 0,\n",
       "        9, 3, 6, 2, 3, 0, 3, 8, 0, 2, 1, 1, 1, 1, 4, 2, 9, 7, 4, 4, 1, 1,\n",
       "        2, 1, 9, 9, 9, 1, 0, 2, 0, 2, 1, 1, 4, 6, 4, 1, 5, 4, 9, 9, 7, 7,\n",
       "        5, 6, 2, 3, 2, 8, 0, 6, 9, 5, 3, 9, 7, 7, 1, 4, 8, 5, 3, 4, 3, 4,\n",
       "        7, 7, 5, 0, 7, 4, 8, 8, 1, 5, 3, 9, 5, 9, 9, 6, 9, 0, 3, 6, 3, 9,\n",
       "        8, 2, 8, 1, 2, 8, 6, 8, 5, 5, 3, 9, 4, 9, 2, 5, 1, 5, 1, 8, 4, 1,\n",
       "        4, 4, 3, 3, 9, 1, 2, 2, 3, 3, 0, 2, 9, 0, 0, 9, 9, 6, 0, 9, 3, 7,\n",
       "        8, 4, 1, 9, 9, 7, 2, 3, 9, 9, 8, 9, 1, 1, 1, 8, 7, 5, 1, 9, 5, 3,\n",
       "        5, 9, 9, 4, 9, 7, 1, 9, 0, 9, 7, 5, 4, 9, 2, 0, 1, 0, 5, 1, 4, 9,\n",
       "        3, 3, 6, 1, 5, 2, 5, 3, 2, 0, 4, 2, 6, 6, 0, 1, 2, 0, 3, 0, 2, 9,\n",
       "        8, 7, 9, 7, 5, 0, 8, 9, 5, 0, 3, 2, 5, 4, 0, 8, 8, 4, 6, 8, 8, 4,\n",
       "        5, 4, 5, 5, 4, 9, 2, 2, 1, 2, 6, 8, 8, 7, 0, 3, 6, 6, 4, 3, 8, 8,\n",
       "        7, 2, 2, 0, 0, 4, 3, 9, 9, 1, 9, 8, 6, 6, 4, 2, 6, 9, 2, 8, 5, 4,\n",
       "        5, 9, 9, 4, 9, 8, 1, 8, 3, 4, 0, 3, 8, 7, 9, 3, 4, 6, 5, 6, 2, 3,\n",
       "        9, 2, 6, 0, 0, 0, 1, 8, 8, 7, 9, 8, 2, 0, 4, 7, 7, 5, 0, 5, 6, 4,\n",
       "        6, 7, 4, 3, 0, 7, 5, 0, 7, 4, 2, 3, 8, 9, 9, 4, 2, 4, 6, 7, 8, 7,\n",
       "        6, 9, 4, 1, 3, 7, 3, 0, 8, 7, 8, 6, 1, 3, 9, 2, 2, 9, 2, 1, 8, 3,\n",
       "        2, 9, 6, 8, 4, 0, 1, 2, 8, 4, 5, 7, 7, 3, 1, 1, 3, 0, 3, 5, 7, 0,\n",
       "        3, 1, 9, 3, 6, 3, 1, 7, 3, 3, 0, 8, 4, 8, 2, 6, 5, 2, 9, 7, 3, 9,\n",
       "        0, 9, 9, 6, 4, 2, 9, 7, 2, 1, 1, 6, 7, 4, 7, 5, 9, 2, 8, 2, 1, 2,\n",
       "        4, 5, 9, 6, 1, 3, 2, 5, 9, 9, 3, 6, 1, 1, 4, 6, 9, 7, 2, 1, 5, 1,\n",
       "        4, 6, 3, 4, 1, 1, 0, 3, 1, 6, 8, 4, 9, 0, 7, 3, 0, 4, 9, 0, 6, 6,\n",
       "        6, 3, 6, 7, 7, 2, 8, 6, 0, 8, 3, 0, 2, 9, 8, 3, 2, 5, 3, 9, 3, 0,\n",
       "        0, 1, 9, 5, 1, 3, 9, 6, 0, 1, 4, 1, 7, 1, 2, 3, 7, 9, 7, 4, 9, 9,\n",
       "        3, 9, 2, 8, 2, 7, 1, 3, 0, 9, 1, 0, 1, 7, 7, 9, 6, 9, 9, 9, 2, 1,\n",
       "        6, 1, 3, 5, 2, 1, 9, 7, 6, 4, 5, 7, 6, 6, 9, 9, 6, 3, 6, 2, 9, 8,\n",
       "        1, 2, 2, 5, 5, 2, 3, 7, 2, 1, 0, 1, 0, 4, 5, 2, 8, 2, 8, 3, 5, 1,\n",
       "        7, 7, 1, 1, 2, 4, 7, 8, 4, 0, 5, 0, 7, 8, 8, 4, 7, 7, 8, 5, 8, 6,\n",
       "        9, 8, 1, 3, 8, 0, 3, 1, 7, 1, 5, 5, 1, 6, 5, 7, 4, 9, 3, 5, 4, 7,\n",
       "        1, 2, 0, 8, 1, 6, 0, 7, 3, 4, 7, 8, 9, 6, 0, 8, 6, 4, 8, 7, 7, 9,\n",
       "        3, 8, 6, 9, 7, 2, 3, 4, 0, 2, 1, 0, 5, 5, 5, 7, 1, 4, 0, 7, 2, 8,\n",
       "        3, 0, 8, 7, 8, 4, 0, 8, 4, 9, 5, 3, 5, 6, 6, 3, 0, 9, 3, 2, 6, 8,\n",
       "        9, 3, 4, 9, 5, 8, 9, 1, 2, 8, 8, 6, 8, 1, 3, 7, 9, 0, 1, 1, 4, 7,\n",
       "        0, 9, 1, 7, 4, 5, 7, 1, 2, 1, 1, 3, 0, 6, 4, 1, 2, 4, 8, 7, 6, 6,\n",
       "        9, 3, 1, 0, 5, 2, 6, 0, 5, 4, 3, 8, 4, 6, 6, 2, 7, 9, 5, 1, 3, 2,\n",
       "        4, 3, 6, 1, 4, 4, 4, 7, 6, 8, 4, 1, 9, 9, 2, 7, 8, 0, 1, 3, 6, 1,\n",
       "        3, 4, 1, 1, 1, 5, 6, 0, 7, 0, 7, 3, 3, 2, 5, 2, 2, 9, 4, 9, 8, 1,\n",
       "        3, 1, 6, 1, 2, 7, 4, 0, 0, 0, 8, 2, 2, 9, 2, 2, 1, 9, 9, 2, 7, 5,\n",
       "        1, 3, 4, 9, 4, 1, 7, 5, 6, 2, 8, 3, 1, 2, 8, 4, 9, 9, 8, 7, 0, 7,\n",
       "        7, 2, 3, 2, 4, 0, 3, 4, 9, 8, 4, 1, 0, 6, 0, 4, 6, 8, 6, 1, 1, 9,\n",
       "        8, 9, 2, 3, 5, 5, 9, 4, 2, 1, 9, 4, 3, 9, 6, 0, 4, 0, 6, 0, 1, 2,\n",
       "        2, 4, 7, 8, 9, 0, 1, 2, 2, 4, 7, 8, 9, 0, 1, 2, 5, 4, 5, 6, 7, 8,\n",
       "        9, 8, 3, 4, 7, 1, 6, 2, 1, 0, 9, 7, 1, 9, 3, 8, 4, 7, 2, 0, 9, 1,\n",
       "        4, 5, 4, 6, 2, 0, 6, 2, 1, 1, 1, 1, 7, 2, 4, 7, 5, 2, 9, 4, 5, 8,\n",
       "        4, 2, 9, 7, 0, 0, 7, 5, 1, 1, 7, 6, 6, 6, 8, 2, 2, 7, 7, 4, 0, 2,\n",
       "        4, 2, 1, 8, 9, 6, 1, 0, 5, 4, 6, 9, 8, 0, 2, 0, 8, 3, 9, 6, 3, 0,\n",
       "        1, 2, 3, 4, 5, 6, 7, 0, 1, 2, 3, 4, 5, 6, 7, 8, 9, 5, 1, 2, 3, 4,\n",
       "        5, 6, 7, 8, 5, 4, 8, 7, 4, 7, 7, 3, 9, 4, 8, 3, 1, 5, 8, 2, 7, 4,\n",
       "        2, 1, 5, 4, 5, 5, 8, 6, 4, 4, 4, 1, 8, 7, 5, 5, 1, 8, 7, 1, 3, 6,\n",
       "        3, 3, 2, 8, 6, 9, 9, 6, 5, 5, 3, 3, 8, 1, 6, 5, 6, 8, 1, 9, 7, 6,\n",
       "        8, 3, 7, 4, 7, 0, 9, 0, 0, 3, 2, 9, 3, 0, 2, 0, 1, 0, 1, 0, 4, 0,\n",
       "        1, 0, 4, 7, 9, 6, 2, 6, 2, 2, 9, 9, 0, 1, 2, 3, 4, 5, 6, 7, 8, 9,\n",
       "        0, 1, 2, 3, 4, 5, 6, 7, 0, 9, 0, 1, 2, 3, 4, 5, 6, 7, 0, 9, 8, 0,\n",
       "        5, 6, 6, 0, 8, 0, 2, 3, 7, 9, 4, 7, 1, 9, 1, 7, 1, 4, 0, 0, 4, 1,\n",
       "        7, 5, 7, 1, 3, 3, 3, 6, 6, 9, 7, 4, 3, 0, 2, 5, 2, 6, 0, 8, 9, 4,\n",
       "        3, 5, 4, 8, 1, 5, 9, 0, 6, 4, 3, 6, 3, 3, 8, 1, 4, 7, 5, 7, 2, 2,\n",
       "        0, 0, 1, 7, 7, 9, 5, 9, 8, 9, 6, 8, 8, 2, 3, 6, 1, 2, 9, 8, 9, 5,\n",
       "        2, 6, 2, 4, 8, 4, 6, 5, 0, 1, 5, 6, 7, 8, 9, 0, 1, 2, 3, 4, 5, 6,\n",
       "        7, 8, 9, 0, 1, 2, 3, 4, 5, 6, 7, 8, 9, 7, 4, 2, 0, 9, 0, 1, 5, 8,\n",
       "        8, 0, 2, 7, 8, 4, 4, 6, 1, 0, 4, 5, 3, 9, 4, 2, 0, 5, 0, 1, 3, 2,\n",
       "        9, 8, 6, 0, 1, 1, 8, 0, 4, 7, 7, 6, 3, 6, 0, 7, 3, 5, 4, 2, 4, 1,\n",
       "        8, 3, 5, 6, 7, 0, 6, 7, 1, 2, 5, 8, 1, 9, 3, 8, 2, 8, 7, 6, 7, 1,\n",
       "        4, 6, 2, 9, 3, 0, 1, 2, 3, 4, 5, 6, 7, 0, 1, 2, 3, 4, 5, 0, 1, 2,\n",
       "        8, 9, 1, 4, 0, 9, 5, 0, 8, 0, 7, 7, 1, 1, 2, 9, 3, 6, 7, 2, 3, 8,\n",
       "        1, 2, 9, 8, 8, 7, 1, 7, 1, 1, 0, 3, 4, 2, 6, 4, 7, 4, 8, 7, 4, 9,\n",
       "        1, 0, 6, 8, 5, 5, 5, 3, 5, 9, 7, 4, 8, 5, 9, 6, 9, 3, 0, 3, 8, 9,\n",
       "        1, 8, 1, 6, 0, 0, 1, 2, 3, 4, 5, 6, 9, 4, 9, 0, 1, 2, 3, 4, 5, 6,\n",
       "        7, 6, 9, 0, 1, 2, 3, 9, 5, 6, 9, 8, 9, 3, 5, 3, 2, 9, 3, 2, 1, 4,\n",
       "        5, 5, 3, 3, 2, 1, 3, 9, 7, 2, 5, 2, 8, 9, 1, 8, 8, 7, 8, 1, 0, 6,\n",
       "        7, 7, 8, 7, 5, 0, 6, 1, 5, 7, 4, 6, 1, 2, 5, 0, 7, 9, 9, 0, 3, 8,\n",
       "        4, 6, 8, 1, 8, 6, 5, 9, 0, 0, 0, 3, 9, 1, 6, 4, 2, 6, 6, 0, 4, 5,\n",
       "        4, 1, 3, 8, 6, 3, 9, 9, 5, 9, 3, 7, 8, 5, 6, 4, 9, 6, 2, 2, 0, 9,\n",
       "        4, 0, 1, 2, 3, 4, 5, 6, 7, 8, 9, 0, 1, 2, 7, 6, 6, 0, 1, 2, 3, 4,\n",
       "        5, 6, 8, 7, 1, 3, 2, 6, 0, 7, 5, 9, 9, 6, 0, 9, 4, 1, 3, 2, 1, 2,\n",
       "        3, 8, 3, 2, 6, 5, 6, 8, 2, 7, 4, 8, 1, 8, 0, 5, 3, 9, 4, 1, 9, 2,\n",
       "        1, 9, 6, 7, 9, 0, 4, 6, 1, 7, 3, 8, 7, 2, 9, 6, 5, 8, 3, 9, 0, 5,\n",
       "        7, 1, 6, 1, 0, 9, 3, 3, 4, 4, 0, 6, 2, 3, 4, 2, 3, 4, 6, 0, 0, 2,\n",
       "        0, 1, 4, 5, 6, 9, 8, 9, 0, 1, 2, 3, 7, 5, 6, 7, 8, 0, 1, 2, 3, 4,\n",
       "        5, 6, 7, 8, 9, 8, 7, 1, 3, 7, 3, 2, 8, 0, 7, 5, 9, 9, 0, 9, 1, 1,\n",
       "        5, 8, 8, 6, 3, 2, 1, 8, 3, 2, 6, 5, 6, 3, 0, 1, 0, 6, 3, 1, 9, 2,\n",
       "        1, 9, 6, 0, 4, 6, 1, 7, 3, 8, 7, 2, 9, 6, 5, 8, 0, 3, 7, 1, 6, 1,\n",
       "        0, 9, 6, 2, 3, 4, 2, 3, 4, 4, 6, 0, 0, 2, 0, 1, 2, 3, 9, 3, 6, 7,\n",
       "        8, 9, 0, 1, 2, 3, 4, 5, 6, 7, 8, 9, 0, 1, 2, 8, 4, 5, 6, 7, 8, 9,\n",
       "        8, 6, 5, 0, 6, 8, 9, 4, 1, 9, 5, 8, 0, 4, 8, 9, 1, 4, 0, 5, 5, 2,\n",
       "        1, 8, 4, 0, 7, 6, 0, 1, 7, 0, 6, 8, 9, 5, 1, 7, 9, 8, 6, 0, 8, 1,\n",
       "        7, 7, 1, 3, 2, 3, 1, 4, 2, 0, 0, 7, 8, 4, 6, 4, 9, 5, 8, 4, 7, 2,\n",
       "        5, 6, 3, 6, 9, 6, 3, 0, 2, 4, 6, 9, 0, 2, 3, 3, 1, 3, 3, 9, 7, 8,\n",
       "        7, 2, 2, 5, 7, 9, 8, 2, 1, 9, 1, 3, 0, 1, 2, 8, 4, 5, 6, 7, 8, 3,\n",
       "        0, 1, 2, 3, 4, 5, 6, 7, 8, 5, 0, 1, 2, 3, 4, 5, 6, 7, 8, 5, 1, 8,\n",
       "        6, 5, 3, 0, 7, 0, 4, 1, 4, 3, 6, 7, 2, 3, 1, 1, 1, 2, 5, 6, 0, 1,\n",
       "        3, 0, 2, 7, 5, 7, 6, 2, 8, 1, 9, 0, 6, 0, 6, 0, 2, 0, 6, 1, 5, 8,\n",
       "        4, 3, 0, 1, 5, 4, 4, 8, 5, 7, 5, 7, 8, 3, 4, 8, 8, 5, 2, 0, 7, 1,\n",
       "        3, 8, 1, 0, 7, 5, 3, 6, 5, 4, 7, 7, 0, 0, 3, 4, 4, 3, 8, 6, 2, 0,\n",
       "        1, 2, 3, 4, 5, 6, 7, 8, 9, 0, 1, 2, 3, 4, 5, 6, 7, 8, 9, 0, 1, 2,\n",
       "        3, 4, 5, 6, 7, 8, 9, 0, 8, 3, 9, 5, 5, 2, 6, 8, 4, 9, 1, 7, 1, 2,\n",
       "        3, 5, 9, 6, 9, 1, 1, 1, 2, 9, 5, 6, 8, 1, 2, 0, 7, 7, 5, 8, 2, 9,\n",
       "        8, 9, 0, 4, 6, 7, 1, 3, 4, 5, 6, 0, 3, 6, 8, 7, 0, 4, 2, 7, 4, 7,\n",
       "        5, 4, 3, 4, 2, 8, 1, 5, 1, 2, 0, 2, 5, 6, 4, 3, 0, 0, 0, 3, 3, 5,\n",
       "        7, 0, 6, 4, 8, 8, 6, 3, 4, 6, 9, 9, 8, 2, 7, 7, 1, 0, 1, 2, 3, 4,\n",
       "        5, 6, 7, 8, 9, 0, 1, 2, 3, 4, 6, 6, 7, 8, 0, 1, 2, 3, 4, 5, 6, 7,\n",
       "        8, 2, 1, 7, 2, 5, 0, 8, 0, 2, 7, 6, 8, 3, 6, 0, 2, 7, 6, 6, 1, 2,\n",
       "        8, 8, 7, 7, 4, 7, 7, 3, 7, 4, 5, 4, 3, 3, 8, 4, 1, 1, 9, 7, 4, 3,\n",
       "        7, 3, 3, 0, 2, 5, 5, 6, 6, 3, 5, 6, 5, 9, 9, 8, 4, 1, 0, 6, 6, 9,\n",
       "        6, 8, 8, 5, 6, 1, 1, 9, 8, 9, 2, 3, 5, 5, 9, 4, 2, 1, 9, 2, 9, 2,\n",
       "        0, 2, 6, 4, 0, 0, 1, 2, 3, 4, 7, 8, 9, 0, 1, 2, 3, 7, 8, 9, 0, 1,\n",
       "        2, 3, 4, 7, 8, 9, 7, 3, 0, 3, 1, 8, 7, 6, 4, 0, 2, 6, 8, 3, 2, 8,\n",
       "        1, 2, 0, 7, 1, 0, 4, 4, 5, 8, 0, 6, 2, 3, 1, 5, 1, 8, 5, 9, 4, 0,\n",
       "        7, 5, 8, 8, 5, 8, 9, 2, 6, 2, 5, 5, 1, 7, 3, 0, 1, 9, 9, 6, 0, 3,\n",
       "        9, 2, 8, 1, 4, 0, 5, 2, 9, 2, 5, 8, 9, 5, 0, 1, 2, 4, 5, 6, 0, 1,\n",
       "        2, 3, 4, 5, 6, 7, 1, 2, 3, 4, 5, 1, 0, 4, 5, 6, 6, 3, 4, 4, 2, 9,\n",
       "        1, 0, 6, 4, 3, 7, 2, 3, 3, 9, 2, 0, 4, 3, 3, 7, 1, 5, 6, 3, 7, 7,\n",
       "        8, 4, 0, 2, 4, 0, 2, 4, 7, 8, 0, 7, 0, 6, 9, 3, 2, 8, 6, 7, 2, 7,\n",
       "        5, 1, 0, 5, 1, 6, 7, 2, 9, 7, 9, 5, 8, 4, 2, 6, 2, 8, 1, 7, 5, 0,\n",
       "        1, 1, 3, 4, 4, 9, 1, 8, 6, 8, 5, 0, 1, 2, 3, 4, 5, 6, 7, 5, 4, 0,\n",
       "        1, 2, 3, 4, 7, 8, 9, 5, 1, 7, 8, 9, 9, 8, 9, 8, 4, 1, 7, 7, 3, 3,\n",
       "        7, 6, 6, 6, 1, 9, 0, 1, 7, 6, 3, 2, 1, 7, 1, 3, 9, 1, 7, 6, 8, 4,\n",
       "        1, 4, 3, 6, 9, 6, 1, 4, 4, 7, 2, 4, 4, 0, 1, 2, 3, 4, 7, 6, 7, 8,\n",
       "        9, 0, 1, 2, 3, 4, 5, 6, 9, 0, 1, 4, 3, 4, 7, 8, 1, 3, 5, 1, 7, 7,\n",
       "        2, 1, 4, 8, 3, 4, 4, 3, 0, 7, 4, 1, 8, 3, 4, 9, 1, 6, 0, 1, 0, 0,\n",
       "        2, 8, 7, 1, 1, 4, 0, 4, 7, 3, 6, 8, 0, 3, 2, 4, 0, 6, 9, 2, 6, 1,\n",
       "        8, 6, 9, 0, 4, 0, 6, 1, 4, 4, 0, 9, 5, 1, 3, 7, 6, 9, 3, 0, 7, 2,\n",
       "        0, 1, 2, 3, 4, 5, 6, 7, 8, 9, 0, 1, 2, 3, 4, 5, 6, 7, 8, 9, 0, 1,\n",
       "        2, 3, 4, 5, 6, 7, 8, 9, 2, 1, 7, 2, 5, 0, 8, 0, 2, 7, 8, 8, 3, 0,\n",
       "        6, 0, 2, 7, 6, 4, 1, 2, 8, 8, 7, 7, 4, 7, 7, 3, 7, 4, 5, 4, 3, 3,\n",
       "        8, 4, 5, 4, 1, 1, 9, 7, 4, 3, 7, 3, 3, 0, 2, 5, 5, 6, 3, 1, 5, 2,\n",
       "        5, 9, 9, 8, 4, 1, 0, 6, 0, 9, 6, 8, 8, 5, 6, 1, 1, 9, 8, 9, 6, 3,\n",
       "        5, 5, 9, 4, 2, 1, 9, 4, 9, 1, 3, 7, 2, 0, 6, 0, 4, 0, 4, 0, 1, 2,\n",
       "        3, 4, 5, 6, 7, 8, 9, 0, 1, 2, 3, 4, 5, 6, 7, 8, 9, 0, 1, 2, 3, 4,\n",
       "        5, 6, 7, 8, 9, 3, 8, 0, 7, 1, 0, 7, 5, 5, 6, 9, 0, 1, 0, 0, 8, 3,\n",
       "        4, 3, 1, 5, 0, 0, 9, 6, 3, 4, 9, 3, 7, 6, 9, 2, 4, 5, 7, 2, 6, 4,\n",
       "        9, 4, 9, 4, 1, 2, 2, 5, 8, 1, 3, 2, 9, 4, 3, 8, 2, 2, 1, 2, 8, 6,\n",
       "        5, 1, 6, 7, 2, 1, 3, 9, 3, 8, 7, 5, 7, 0, 7, 4, 8, 8, 5, 0, 6, 6,\n",
       "        3, 7, 6, 9, 9, 4, 8, 4, 1, 0, 6, 6, 0, 1, 2, 3, 4, 5, 6, 7, 8, 9,\n",
       "        0, 1, 2, 3, 4, 5, 6, 7, 8, 9, 0, 1, 2, 3, 4, 5, 6, 7, 8, 9, 7, 4,\n",
       "        0, 4, 0, 1, 7, 9, 5, 1, 4, 2, 8, 9, 4, 3, 7, 8, 2, 4, 4, 3, 3, 6,\n",
       "        9, 9, 5, 8, 6, 7, 0, 6, 8, 2, 6, 3, 9, 3, 2, 9, 6, 1, 7, 4, 8, 8,\n",
       "        9, 0, 9, 3, 9, 0, 5, 2, 9, 4, 1, 0, 3, 7, 5, 8, 7, 7, 8, 2, 9, 7,\n",
       "        1, 2, 6, 4, 2, 5, 2, 3, 6, 6, 5, 0, 0, 2, 8, 1, 6, 1, 0, 4, 3, 1,\n",
       "        6, 1, 9, 0, 1, 4, 5, 6, 7, 8, 9, 1, 2, 3, 4, 5, 6, 7, 0, 1, 2, 3,\n",
       "        4, 5, 6, 7, 8, 9, 8, 4, 0, 0, 7, 2, 4, 3, 8, 6, 6, 3, 4, 6, 3, 3,\n",
       "        6, 1, 4, 7, 3, 0, 3, 1, 9, 0, 1, 9, 1, 2, 7, 0, 1, 3, 8, 2, 9, 2,\n",
       "        7, 6, 5, 8, 9, 9, 8, 2, 9, 1, 3, 2, 3, 4, 3, 1, 9, 0, 9, 3, 6, 8,\n",
       "        7, 0, 1, 0, 5, 3, 2, 7, 7, 0, 1, 2, 3, 4, 5, 6, 7, 8, 9, 0, 1, 2,\n",
       "        3, 4, 5, 6, 7, 8, 9, 0, 1, 2, 3, 4, 5, 6, 7, 8, 9, 1, 7, 4, 8, 1,\n",
       "        5, 6, 5, 7, 2, 8, 6, 3, 3, 8, 6, 5, 4, 0, 9, 1, 7, 2, 9, 1, 5, 1,\n",
       "        3, 2, 2, 3, 0, 6, 4, 3, 7, 6, 9, 0, 9, 8, 1, 4, 0, 6, 1, 2, 6, 9,\n",
       "        2, 2, 3, 5, 5, 1, 0, 7, 7, 9, 6, 2, 9, 4, 7, 0, 2, 3, 4, 0, 0, 8,\n",
       "        8, 8, 5, 1, 3, 7, 4, 9, 8, 8, 9, 0, 9, 8, 9, 0, 2, 6, 5, 6, 7, 4,\n",
       "        7, 5, 4, 1, 3, 5, 3, 1, 2, 3, 4, 5, 6, 1, 2, 3, 4, 6, 0, 1, 2, 4,\n",
       "        5, 6, 7, 8, 1, 7, 2, 4, 1, 4, 1, 4, 9, 6, 8, 4, 5, 3, 2, 8, 8, 3,\n",
       "        3, 5, 6, 7, 0, 6, 1, 6, 8, 7, 0, 1, 5, 0, 8, 6, 0, 1, 5, 8, 4, 2,\n",
       "        3, 5, 7, 6, 9, 1, 9, 0, 6, 7, 1, 2, 3, 9, 2, 4, 5, 5, 3, 7, 5, 3,\n",
       "        1, 8, 2, 2, 3, 0, 2, 9, 4, 9, 7, 0, 7, 7, 4, 9, 9, 2, 3, 9, 8, 3,\n",
       "        8, 6, 7, 0, 0, 1, 2, 3, 4, 5, 6, 7, 8, 9, 0, 1, 2, 3, 4, 5, 6, 7,\n",
       "        8, 9, 0, 1, 2, 3, 4, 5, 6, 7, 8, 9, 0, 0, 7, 8, 6, 5, 5, 3, 7, 9,\n",
       "        6, 6, 6, 6, 4, 3, 8, 8, 3, 0, 1, 9, 0, 5, 4, 1, 9, 1, 2, 7, 0, 1,\n",
       "        3, 8, 2, 9, 2, 7, 4, 2, 6, 5, 5, 9, 4, 1, 1, 5, 7, 6, 8, 2, 9, 4,\n",
       "        3, 1, 9, 0, 9, 3, 6, 8, 7, 0, 1, 0, 5, 8, 2, 7, 7, 0, 1, 2, 3, 4,\n",
       "        5, 6, 7, 8, 9, 0, 1, 2, 3, 4, 5, 8, 9, 0, 1, 2, 3, 4, 5, 6, 7, 8,\n",
       "        9, 2, 1, 3, 1, 3, 9, 9, 8, 5, 3, 7, 0, 7, 7, 5, 7, 9, 9, 4, 7, 0,\n",
       "        3, 4, 1, 5, 8, 1, 4, 8, 4, 1, 8, 6, 6, 4, 6, 0, 5, 5, 3, 3, 5, 7,\n",
       "        2, 5, 9, 6, 9, 2, 6, 2, 1, 2, 0, 8, 3, 8, 3, 0, 8, 7, 4, 9, 5, 0,\n",
       "        9, 7, 0, 0, 4, 6, 0, 9, 1, 6, 2, 7, 6, 8, 3, 5, 2, 1, 8, 3, 8, 6,\n",
       "        1, 0, 2, 1, 4, 0, 1, 2, 3, 4, 5, 6, 7, 8, 9, 0, 1, 2, 3, 4, 5, 6,\n",
       "        7, 8, 9, 0, 1, 2, 3, 4, 5, 6, 7, 8, 9, 7, 6, 4, 7, 6, 2, 3, 4, 8,\n",
       "        7, 8, 6, 9, 8, 3, 2, 2, 8, 4, 8, 5, 6, 5, 0, 2, 0, 1, 1, 2, 9, 6,\n",
       "        8, 2, 1, 0, 6, 5, 2, 9, 7, 6, 3, 9, 2, 7, 1, 8, 3, 8, 1, 9, 5, 5,\n",
       "        0, 1, 8, 9, 8, 2, 6, 0, 4, 5, 0, 2, 1, 8, 6, 7, 5, 9, 9, 3, 0, 3,\n",
       "        1, 4, 4, 0, 4, 9, 0, 8, 2, 3, 8, 6, 7, 8, 0, 8, 2, 9, 8, 0, 7, 8,\n",
       "        9, 0, 8, 9, 2, 4, 6, 7, 8, 9, 9, 7, 0, 9, 0, 1, 4, 8, 8, 0, 9, 3,\n",
       "        9, 7, 8, 4, 6, 1, 0, 4, 9, 4, 4, 0, 4, 0, 1, 6, 9, 3, 2, 9, 1, 6,\n",
       "        0, 8, 8, 8, 7, 7, 6, 3, 6, 0, 7, 2, 4, 1, 7, 0, 6, 7, 1, 4, 8, 8,\n",
       "        1, 8, 2, 8, 7, 6, 8, 7, 8, 6, 2, 9, 3, 0, 1, 2, 3, 4, 5, 6, 7, 8,\n",
       "        9, 0, 1, 6, 3, 4, 5, 6, 7, 8, 9, 0, 1, 2, 3, 4, 5, 6, 7, 8, 9, 8,\n",
       "        9, 5, 7, 0, 3, 1, 6, 8, 4, 1, 5, 6, 4, 2, 7, 8, 1, 3, 4, 3, 4, 7,\n",
       "        2, 0, 5, 0, 8, 9, 2, 3, 2, 3, 5, 5, 7, 8, 4, 9, 9, 7, 1, 1, 9, 0,\n",
       "        7, 8, 3, 4, 8, 6, 3, 8, 0, 9, 6, 2, 8, 0, 1, 0, 6, 2, 3, 8, 9, 0,\n",
       "        7, 2, 3, 4, 5, 5, 2, 8, 5, 4, 6, 6, 6, 7, 9, 1, 8, 9, 1, 5, 3, 4,\n",
       "        7, 9, 4, 0, 0, 0, 1, 2, 3, 4, 8, 6, 7, 8, 9, 0, 1, 2, 3, 4, 3, 6,\n",
       "        7, 8, 9, 0, 1, 2, 3, 6, 5, 6, 9, 0, 1, 3, 1, 5, 1, 8, 4, 9, 8, 8,\n",
       "        6, 8, 0, 1, 1, 9, 2, 6, 6, 8, 7, 4, 2, 9, 7, 0, 2, 1, 0, 3, 6, 0,\n",
       "        1, 2, 3, 4, 5, 6, 7, 8, 9, 0, 1, 2, 3, 4, 5, 6, 7, 8, 9, 0, 1, 2,\n",
       "        3, 4, 5, 6, 7, 8, 9, 8, 6, 5, 9, 7, 0, 2, 3, 4, 3, 8, 5, 1, 5, 2,\n",
       "        3, 0, 1, 4, 1, 3, 2, 6, 5, 3, 0, 7, 2, 7, 4, 6, 4, 0, 5, 9, 9, 5,\n",
       "        9, 5, 3, 1, 7, 4, 7, 6, 5, 4, 0, 0, 6, 6, 2, 0, 6, 3, 7, 7, 4, 4,\n",
       "        3, 9, 2, 8, 9, 6, 0, 9, 5, 3, 8, 8, 7, 1, 4, 0, 4, 8, 5, 2, 3, 9,\n",
       "        0, 1, 9, 1, 5, 1, 7, 4, 8, 6, 2, 1, 6, 8, 8, 0, 1, 2, 8, 4, 7, 8,\n",
       "        9, 0, 1, 2, 3, 4, 6, 7, 8, 9, 0, 1, 2, 3, 4, 7, 8, 9, 1, 4, 5, 3,\n",
       "        5, 7, 9, 5, 4, 5, 0, 6, 4, 6, 7, 0, 7, 7, 1, 6, 9, 1, 3, 6, 2, 3,\n",
       "        5, 2, 3, 8, 9, 5, 8, 8, 7, 1, 7, 1, 1, 0, 5, 4, 2, 6, 4, 7, 4, 2,\n",
       "        7, 4, 2, 9, 2, 7, 9, 2, 1, 0, 6, 5, 3, 4, 8, 5, 7, 6, 9, 0, 6, 3,\n",
       "        0, 6, 1, 6, 0, 0, 1, 2, 3, 4, 5, 6, 7, 0, 1, 4, 3, 4, 7, 8, 9, 0,\n",
       "        1, 2, 3, 4, 7, 2, 5, 1, 6, 4, 3, 9, 9, 0, 9, 7, 1, 6, 4, 3, 6, 2,\n",
       "        0, 9, 8, 6, 5, 7, 0, 0, 1, 7, 4, 3, 2, 4, 1, 3, 7, 6, 4, 7, 7, 7,\n",
       "        9, 8, 9, 3, 6, 2, 6, 3, 5, 8, 0, 5, 4, 7, 1, 3, 1, 7, 9, 6, 2, 0,\n",
       "        9, 1, 7, 3, 3, 9, 1, 6, 4, 3, 9, 8, 2, 1, 8, 6, 4, 1, 4, 5, 6, 5,\n",
       "        0, 1, 2, 3, 4, 5, 6, 7, 8, 9, 0, 1, 2, 3, 4, 5, 6, 7, 8, 9, 0, 1,\n",
       "        2, 3, 4, 5, 6, 7, 8, 9, 6, 9, 7, 0, 2, 3, 4, 3, 8, 5, 1, 3, 0, 1,\n",
       "        2, 1, 3, 2, 0, 7, 2, 6, 4, 0, 5, 9, 9, 8, 9, 5, 3, 1, 7, 4, 7, 0,\n",
       "        0, 6, 6, 6, 3, 7, 9, 2, 6, 9, 8, 7, 1, 4, 0, 4, 8, 5, 2, 3, 9, 0,\n",
       "        1, 9, 1, 5, 1, 7, 6, 1, 2, 1, 6, 8, 0, 1, 2, 3, 4, 5, 6, 7, 8, 9,\n",
       "        0, 1, 2, 3, 4, 5, 6, 7, 8, 0, 1, 2, 3, 5, 6, 7, 8, 1, 0, 4, 5, 6,\n",
       "        6, 3, 4, 4, 2, 8, 1, 0, 6, 4, 9, 7, 2, 9, 2, 0, 9, 3, 3, 9, 1, 5,\n",
       "        2, 3, 1, 6, 7, 3, 7, 8, 4, 0, 2, 4, 0, 2, 4, 7, 8, 0, 7, 0, 6, 9,\n",
       "        3, 2, 4, 8, 6, 0, 5, 7, 5, 1, 0, 8, 1, 6, 7, 3, 9, 7, 9, 5, 6, 5,\n",
       "        2, 6, 2, 8, 1, 7, 5, 5, 7, 3, 5, 0, 1, 1, 3, 8, 4, 9, 4, 5, 1, 8,\n",
       "        6, 8, 9, 0, 1, 2, 3, 4, 5, 6, 7, 8, 9, 0, 1, 2, 3, 4, 5, 6, 7, 8,\n",
       "        9, 0, 1, 2, 3, 4, 5, 6, 7, 8, 9, 3, 5, 3, 2, 9, 3, 2, 1, 4, 5, 5,\n",
       "        2, 3, 2, 1, 3, 9, 7, 2, 1, 2, 8, 9, 1, 8, 8, 7, 8, 1, 0, 0, 6, 7,\n",
       "        7, 8, 7, 5, 0, 6, 1, 5, 7, 4, 6, 1, 2, 5, 0, 7, 9, 9, 0, 3, 4, 4,\n",
       "        8, 4, 1, 8, 6, 5, 9, 0, 0, 0, 3, 7, 1, 6, 4, 6, 0, 4, 5, 4, 1, 3,\n",
       "        8, 6, 3, 9, 9, 5, 9, 3, 7, 8, 5, 6, 4, 7, 6, 2, 2, 0, 9, 4, 0, 1,\n",
       "        2, 3, 4, 5, 6, 7, 8, 9, 0, 1, 2, 3, 4, 5, 6, 7, 8, 9, 0, 1, 2, 3,\n",
       "        4, 5, 6, 7, 8, 9, 6, 4, 2, 6, 4, 7, 5, 5, 4, 7, 2, 9, 3, 9, 3, 8,\n",
       "        2, 0, 9, 5, 6, 0, 1, 0, 6, 5, 3, 5, 3, 8, 0, 0, 3, 4, 1, 6, 3, 0,\n",
       "        8, 3, 0, 6, 2, 7, 8, 1, 7, 1, 3, 8, 5, 4, 2, 0, 9, 7, 6, 7, 4, 1,\n",
       "        6, 2, 6, 7, 1, 9, 8, 0, 6, 9, 4, 9, 9, 6, 2, 3, 7, 1, 9, 2, 2, 5,\n",
       "        3, 7, 8, 0, 1, 2, 3, 4, 7, 8, 9, 0, 1, 2, 3, 4, 7, 8, 9, 0, 1, 7,\n",
       "        8, 9, 8, 9, 2, 6, 1, 3, 5, 4, 8, 2, 6, 4, 3, 4, 5, 9, 2, 0, 3, 9,\n",
       "        4, 9, 7, 3, 8, 7, 4, 4, 9, 8, 5, 8, 2, 6, 6, 2, 3, 1, 3, 2, 7, 3,\n",
       "        1, 9, 0, 1, 1, 3, 5, 0, 7, 8, 1, 5, 1, 4, 6, 0, 0, 4, 9, 1, 6, 6,\n",
       "        9, 0, 7, 6, 1, 1, 0, 1, 2, 8, 4, 2, 8, 3, 4, 6, 6, 2, 5, 1, 2, 2,\n",
       "        8, 6, 3, 9, 2, 1, 9, 3, 9, 6, 1, 7, 2, 4, 4, 5, 2, 0, 0, 1, 6, 6,\n",
       "        8, 2, 7, 2, 2, 4, 2, 1, 6, 1, 0, 6, 9, 8, 3, 9, 6, 3, 0, 1, 2, 3,\n",
       "        4, 5, 6, 7, 8, 9, 0, 8, 2, 3, 4, 5, 6, 7, 8, 9, 0, 1, 2, 3, 4, 5,\n",
       "        6, 7, 8, 9, 1, 6, 8, 9, 9, 0, 1, 2, 4, 4, 3, 7, 4, 4, 4, 0, 3, 8,\n",
       "        7, 5, 8, 2, 1, 7, 5, 3, 8, 5, 2, 5, 1, 1, 6, 2, 1, 3, 8, 6, 4, 2,\n",
       "        6, 2, 5, 5, 0, 2, 8, 0, 6, 8, 1, 7, 9, 1, 9, 2, 6, 7, 6, 6, 8, 7,\n",
       "        4, 9, 2, 1, 3, 3, 0, 5, 5, 8, 0, 3, 7, 9, 7, 0, 2, 7, 9, 1, 7, 8,\n",
       "        0, 3, 5, 3, 6, 0, 1, 2, 9, 4, 5, 6, 7, 8, 9, 0, 1, 2, 3, 4, 5, 6,\n",
       "        7, 8, 9, 0, 1, 2, 3, 4, 7, 8, 9, 6, 4, 8, 6, 4, 7, 8, 4, 2, 9, 3,\n",
       "        9, 3, 0, 0, 1, 0, 4, 2, 6, 3, 5, 3, 0, 3, 4, 1, 5, 3, 0, 8, 3, 0,\n",
       "        6, 1, 7, 8, 0, 7, 2, 6, 7, 1, 9, 6, 9, 4, 9, 9, 6, 7, 1, 2, 5, 3,\n",
       "        7, 8, 0, 1, 2, 4, 5, 6, 7, 8, 9, 0, 1, 3, 4, 5, 6, 7, 5, 0, 1, 3,\n",
       "        4, 7, 8, 9, 7, 5, 5, 1, 9, 9, 7, 1, 0, 0, 5, 9, 7, 1, 7, 2, 2, 3,\n",
       "        6, 8, 3, 2, 0, 0, 6, 1, 7, 5, 3, 6, 2, 9, 4, 8, 8, 7, 1, 0, 8, 7,\n",
       "        7, 5, 8, 5, 3, 4, 6, 1, 1, 5, 5, 0, 7, 2, 3, 6, 4, 1, 2, 4, 1, 5,\n",
       "        4, 2, 0, 4, 8, 6, 1, 9, 0, 2, 5, 6, 9, 3, 6, 3, 6, 0, 1, 2, 3, 4,\n",
       "        5, 6, 7, 8, 9, 0, 1, 2, 3, 4, 5, 6, 7, 8, 9, 0, 1, 2, 3, 5, 6, 7,\n",
       "        8, 1, 0, 9, 5, 7, 5, 1, 8, 6, 9, 0, 4, 1, 9, 3, 8, 4, 4, 7, 0, 1,\n",
       "        9, 2, 8, 7, 8, 2, 5, 9, 6, 0, 4, 3, 5, 3, 3, 3, 9, 8, 1, 1, 0, 6,\n",
       "        1, 0, 0, 6, 2, 1, 1, 3, 6, 7, 7, 8, 8, 7, 8, 4, 6, 0, 7, 0, 7, 0,\n",
       "        3, 6, 8, 7, 1, 3, 9, 9, 3, 7, 2, 4, 9, 4, 3, 6, 2, 2, 5, 3, 2, 5,\n",
       "        3, 9, 4, 1, 7, 2, 0, 1, 2, 3, 4, 5, 6, 7, 8, 9, 0, 1, 2, 3, 4, 5,\n",
       "        6, 7, 8, 9, 0, 1, 2, 3, 4, 5, 6, 7, 8, 9, 1, 0, 1, 2, 7, 5, 3, 4,\n",
       "        4, 0, 0, 6, 9, 6, 6, 5, 9, 2, 3, 4, 9, 9, 1, 4, 0, 7, 7, 5, 7, 2,\n",
       "        3, 1, 4, 4, 0, 9, 9, 6, 1, 8, 3, 3, 7, 3, 9, 8, 8, 4, 7, 7, 6, 2,\n",
       "        1, 9, 8, 7, 8, 8, 7, 2, 2, 3, 9, 3, 3, 5, 5, 0, 7, 4, 5, 6, 5, 1,\n",
       "        4, 1, 1, 8, 8, 2, 6, 1, 5, 0, 1, 2, 3, 4, 5, 6, 7, 8, 9, 0, 1, 2,\n",
       "        5, 4, 5, 6, 7, 8, 9, 0, 1, 2, 8, 4, 5, 6, 7, 8, 8, 0, 6, 0, 3, 2,\n",
       "        3, 7, 9, 4, 7, 1, 7, 7, 7, 1, 4, 0, 0, 1, 7, 5, 7, 1, 3, 3, 3, 1,\n",
       "        6, 9, 7, 1, 2, 0, 2, 6, 0, 8, 9, 4, 3, 5, 4, 8, 1, 5, 9, 0, 6, 5,\n",
       "        3, 8, 1, 4, 7, 5, 2, 0, 0, 1, 7, 8, 9, 6, 8, 8, 2, 3, 5, 1, 8, 9,\n",
       "        5, 2, 0, 1, 2, 3, 4, 5, 6, 7, 8, 9, 0, 1, 0, 3, 4, 0, 6, 7, 8, 9,\n",
       "        0, 1, 0, 3, 4, 6, 6, 7, 5, 8, 7, 4, 6, 1, 4, 0, 4, 7, 3, 7, 1, 2,\n",
       "        7, 5, 8, 6, 3, 0, 0, 0, 5, 8, 6, 0, 3, 8, 1, 0, 3, 0, 8, 7, 4, 9,\n",
       "        0, 9, 0, 7, 1, 7, 1, 6, 6, 0, 6, 0, 8, 7, 6, 4, 9, 9, 5, 3, 7, 4,\n",
       "        3, 0, 8, 6, 6, 1, 1, 3, 2, 1, 0, 0, 1, 2, 3, 4, 7, 8, 4, 0, 1, 8,\n",
       "        3, 4, 5, 6, 7, 8, 0, 1, 2, 3, 4, 7, 8, 9, 0, 8, 3, 9, 5, 5, 8, 6,\n",
       "        8, 4, 1, 7, 1, 7, 3, 5, 6, 9, 1, 1, 1, 2, 1, 2, 0, 7, 7, 5, 8, 2,\n",
       "        4, 8, 8, 7, 3, 4, 6, 8, 7, 0, 4, 8, 7, 7, 5, 4, 3, 4, 8, 8, 1, 5,\n",
       "        1, 2, 2, 3, 3, 6, 7, 0, 6, 8, 8, 3, 4, 9, 6, 8, 7, 7, 1, 0, 1, 7,\n",
       "        8, 9, 0, 1, 2, 9, 4, 5, 6, 7, 8, 0, 1, 2, 3, 4, 7, 8, 9, 7, 8, 6,\n",
       "        4, 1, 9, 2, 8, 4, 4, 7, 0, 1, 9, 2, 8, 7, 8, 2, 6, 0, 6, 6, 3, 8,\n",
       "        9, 9, 1, 4, 0, 6, 1, 0, 0, 6, 2, 1, 1, 7, 7, 7, 4, 6, 0, 7, 0, 3,\n",
       "        6, 8, 7, 1, 3, 2, 4, 9, 4, 2, 6, 4, 1, 7, 3, 6, 2, 0, 1, 2, 8, 4,\n",
       "        5, 6, 7, 8, 9, 0, 1, 2, 3, 4, 5, 6]], dtype=int64)"
      ]
     },
     "execution_count": 310,
     "metadata": {},
     "output_type": "execute_result"
    }
   ],
   "source": [
    "y_hat_numbers.reshape(1, 10000)"
   ]
  },
  {
   "cell_type": "code",
   "execution_count": 312,
   "metadata": {
    "scrolled": false
   },
   "outputs": [
    {
     "data": {
      "text/plain": [
       "(10000,)"
      ]
     },
     "execution_count": 312,
     "metadata": {},
     "output_type": "execute_result"
    }
   ],
   "source": [
    "first_image = x_test_images[:,i]\n",
    "first_image = np.array(first_image, dtype='float')\n",
    "pixels = first_image.reshape((28, 28))\n",
    "plt.imshow(pixels, cmap='gray')\n",
    "plt.title(\"Label was: \" + str(y_test_labels[i]) + \", but your model predicted \" + str(y_hat_numbers[i]))\n",
    "plt.show()"
   ]
  },
  {
   "cell_type": "code",
   "execution_count": 14,
   "metadata": {},
   "outputs": [
    {
     "name": "stdout",
     "output_type": "stream",
     "text": [
      "3\n"
     ]
    }
   ],
   "source": [
    "print(\"3\")"
   ]
  },
  {
   "cell_type": "code",
   "execution_count": null,
   "metadata": {},
   "outputs": [],
   "source": [
    "x_training_images = x_training_images.T\n",
    "x_test_images = x_test_images.T\n",
    "y_training_encoded = np.array(y_training_encoded).T\n",
    "y_test_encoded = np.array(y_test_encoded).T"
   ]
  }
 ],
 "metadata": {
  "kernelspec": {
   "display_name": "Python 3",
   "language": "python",
   "name": "python3"
  },
  "language_info": {
   "codemirror_mode": {
    "name": "ipython",
    "version": 3
   },
   "file_extension": ".py",
   "mimetype": "text/x-python",
   "name": "python",
   "nbconvert_exporter": "python",
   "pygments_lexer": "ipython3",
   "version": "3.7.6"
  }
 },
 "nbformat": 4,
 "nbformat_minor": 4
}
